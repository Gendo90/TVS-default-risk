{
 "cells": [
  {
   "cell_type": "markdown",
   "metadata": {},
   "source": [
    "# Overall Model Test"
   ]
  },
  {
   "cell_type": "code",
   "execution_count": 10,
   "metadata": {},
   "outputs": [],
   "source": [
    "import joblib\n",
    "import pandas as pd"
   ]
  },
  {
   "cell_type": "code",
   "execution_count": 11,
   "metadata": {},
   "outputs": [],
   "source": [
    "#load data from csv\n",
    "df = pd.read_csv(\"output.csv\")\n",
    "y = df['Target variable ( 1: Defaulters / 0: Non-Defaulters)']\n",
    "X = df[['EMI', 'Loan Amount', 'Maximum amount sanctioned for any Two wheeler loan', \n",
    "                       'Age at which customer has taken the loan', 'Rate of Interest', \n",
    "                        'Number of times 30 days past due in last 6 months', 'Maximum MOB (Month of business with TVS Credit)',\n",
    "                       'Number of times 60 days past due in last 6 months', 'Number of loans', \n",
    "                        'Maximum amount sanctioned in the Live loans', 'Number of times 90 days past due in last 3 months', \n",
    "                       'Tenure', 'Number of times bounced while repaying the loan']]"
   ]
  },
  {
   "cell_type": "code",
   "execution_count": 12,
   "metadata": {},
   "outputs": [],
   "source": [
    "#load the saved model - change filename variable as desired\n",
    "filename = 'logistic_regression_oversample.sav'\n",
    "model = joblib.load(filename)"
   ]
  },
  {
   "cell_type": "code",
   "execution_count": 13,
   "metadata": {},
   "outputs": [],
   "source": [
    "from sklearn.preprocessing import MinMaxScaler\n",
    "\n",
    "#setup predictions from model\n",
    "X_scaler = MinMaxScaler().fit(X.copy())\n",
    "\n",
    "X_overall_scaled = X_scaler.transform(X.copy())\n",
    "\n",
    "#compare with the test data!\n",
    "predictions = model.predict(X_overall_scaled)"
   ]
  },
  {
   "cell_type": "code",
   "execution_count": 14,
   "metadata": {},
   "outputs": [
    {
     "data": {
      "text/plain": [
       "0.5077789261817984"
      ]
     },
     "execution_count": 14,
     "metadata": {},
     "output_type": "execute_result"
    }
   ],
   "source": [
    "#score model\n",
    "model.score(X_overall_scaled, y)"
   ]
  },
  {
   "cell_type": "code",
   "execution_count": 15,
   "metadata": {},
   "outputs": [
    {
     "data": {
      "image/png": "[encoded data removed]",
      "text/plain": [
       "<Figure size 432x288 with 2 Axes>"
      ]
     },
     "metadata": {
      "needs_background": "light"
     },
     "output_type": "display_data"
    }
   ],
   "source": [
    "from confusion_matrix_plot import plot_confusion_matrix\n",
    "from sklearn.metrics import confusion_matrix\n",
    "\n",
    "thresh = 0.08\n",
    "predictions [predictions > thresh] = 1\n",
    "predictions [predictions <= thresh] = 0\n",
    "cm = confusion_matrix(y, predictions)\n",
    "plot_confusion_matrix(cm, ['0', '1'], )"
   ]
  },
  {
   "cell_type": "code",
   "execution_count": null,
   "metadata": {},
   "outputs": [],
   "source": []
  }
 ],
 "metadata": {
  "kernelspec": {
   "display_name": "Python 3",
   "language": "python",
   "name": "python3"
  },
  "language_info": {
   "codemirror_mode": {
    "name": "ipython",
    "version": 3
   },
   "file_extension": ".py",
   "mimetype": "text/x-python",
   "name": "python",
   "nbconvert_exporter": "python",
   "pygments_lexer": "ipython3",
   "version": "3.7.6"
  }
 },
 "nbformat": 4,
 "nbformat_minor": 4
}
