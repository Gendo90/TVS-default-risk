{
 "cells": [
  {
   "cell_type": "code",
   "execution_count": 27,
   "metadata": {},
   "outputs": [],
   "source": [
    "%matplotlib inline\n",
    "import matplotlib.pyplot as plt\n",
    "import pandas as pd\n",
    "import os"
   ]
  },
  {
   "cell_type": "code",
   "execution_count": 28,
   "metadata": {},
   "outputs": [
    {
     "data": {
      "text/plain": [
       "Index(['Customer ID',\n",
       "       'If a customer has bounced in first EMI (1 : Bounced, 0 : Not bounced)',\n",
       "       'Number of times bounced in recent 12 months',\n",
       "       'Maximum MOB (Month of business with TVS Credit)',\n",
       "       'Number of times bounced while repaying the loan', 'EMI', 'Loan Amount',\n",
       "       'Tenure',\n",
       "       'Dealer codes from where customer has purchased the Two wheeler',\n",
       "       'No of advance EMI paid', 'Rate of Interest',\n",
       "       'Gender(Male = 0, Female = 1)',\n",
       "       'Age at which customer has taken the loan', 'Number of loans',\n",
       "       ' Number of secured loans', ' Number of unsecured loans',\n",
       "       'Maximum amount sanctioned in the Live loans',\n",
       "       'Number of new loans in last 3 months',\n",
       "       'Total sanctioned amount in the secured Loans which are Live',\n",
       "       'Total sanctioned amount in the unsecured Loans which are Live',\n",
       "       'Maximum amount sanctioned for any Two wheeler loan',\n",
       "       'Time since last Personal loan taken (in months)',\n",
       "       'Time since first consumer durables loan taken (in months)',\n",
       "       'Number of times 30 days past due in last 6 months',\n",
       "       'Number of times 60 days past due in last 6 months',\n",
       "       'Number of times 90 days past due in last 3 months',\n",
       "       'Target variable ( 1: Defaulters / 0: Non-Defaulters)', 'Motorcycle',\n",
       "       'Moped', 'Scooter', 'Geographical Location 1',\n",
       "       'Geographical Location 2', 'Geographical Location 3',\n",
       "       'Geographical Location 4', 'Housewife', 'Self-Employed', 'Salaried',\n",
       "       'Pensioner', 'Student', 'Residence Owned By Office', 'Residence Owned',\n",
       "       'Residence Rented'],\n",
       "      dtype='object')"
      ]
     },
     "execution_count": 28,
     "metadata": {},
     "output_type": "execute_result"
    }
   ],
   "source": [
    "#Import cleaned csv file\n",
    "data = pd.read_csv(\"output.csv\")\n",
    "data.columns"
   ]
  },
  {
   "cell_type": "code",
   "execution_count": 29,
   "metadata": {},
   "outputs": [],
   "source": [
    "#Select only relevant columns\n",
    "model_data = data[[\n",
    "    'EMI', \n",
    "    'Loan Amount', \n",
    "    'Maximum amount sanctioned for any Two wheeler loan',\n",
    "    'Age at which customer has taken the loan', \n",
    "    'Rate of Interest', \n",
    "    'Number of times 30 days past due in last 6 months', \n",
    "    'Maximum MOB (Month of business with TVS Credit)', \n",
    "    'Number of times 60 days past due in last 6 months', \n",
    "    'Number of loans', \n",
    "    'Maximum amount sanctioned in the Live loans', \n",
    "    'Number of times 90 days past due in last 3 months', \n",
    "    'Tenure', \n",
    "    'Number of times bounced while repaying the loan',\n",
    "    'Target variable ( 1: Defaulters / 0: Non-Defaulters)'\n",
    "]]"
   ]
  },
  {
   "cell_type": "code",
   "execution_count": 30,
   "metadata": {},
   "outputs": [
    {
     "name": "stdout",
     "output_type": "stream",
     "text": [
      "X Shape: (73532, 13)\n",
      "y Shape: (73532,)\n"
     ]
    }
   ],
   "source": [
    "# Assign X (data) and y (target)\n",
    "X = model_data.drop('Target variable ( 1: Defaulters / 0: Non-Defaulters)', axis=1)\n",
    "y = model_data['Target variable ( 1: Defaulters / 0: Non-Defaulters)']\n",
    "print(f\"X Shape: {X.shape}\")\n",
    "print(f\"y Shape: {y.shape}\")"
   ]
  },
  {
   "cell_type": "code",
   "execution_count": 31,
   "metadata": {},
   "outputs": [],
   "source": [
    "from sklearn.model_selection import train_test_split\n",
    "\n",
    "X_train, X_test, y_train, y_test = train_test_split(X, y, random_state=1)"
   ]
  },
  {
   "cell_type": "code",
   "execution_count": 32,
   "metadata": {},
   "outputs": [
    {
     "data": {
      "text/plain": [
       "LogisticRegression()"
      ]
     },
     "execution_count": 32,
     "metadata": {},
     "output_type": "execute_result"
    }
   ],
   "source": [
    "from sklearn.linear_model import LogisticRegression\n",
    "classifier = LogisticRegression()\n",
    "classifier"
   ]
  },
  {
   "cell_type": "code",
   "execution_count": 33,
   "metadata": {},
   "outputs": [
    {
     "data": {
      "text/plain": [
       "LogisticRegression()"
      ]
     },
     "execution_count": 33,
     "metadata": {},
     "output_type": "execute_result"
    }
   ],
   "source": [
    "classifier.fit(X_train, y_train)"
   ]
  },
  {
   "cell_type": "code",
   "execution_count": 36,
   "metadata": {},
   "outputs": [
    {
     "name": "stdout",
     "output_type": "stream",
     "text": [
      "Training Data Score: 0.9779325101089775\n",
      "Testing Data Score: 0.9774791927324158\n"
     ]
    }
   ],
   "source": [
    "print(f\"Training Data Score: {classifier.score(X_train, y_train)}\")\n",
    "print(f\"Testing Data Score: {classifier.score(X_test, y_test)}\")"
   ]
  },
  {
   "cell_type": "code",
   "execution_count": 38,
   "metadata": {},
   "outputs": [
    {
     "name": "stdout",
     "output_type": "stream",
     "text": [
      "[0 0 0 0 0 0 0 0 0 0]\n"
     ]
    }
   ],
   "source": [
    "predictions = classifier.predict(X_test)\n",
    "head_10 = predictions[:10]\n",
    "print(head_10)"
   ]
  },
  {
   "cell_type": "code",
   "execution_count": null,
   "metadata": {},
   "outputs": [],
   "source": []
  }
 ],
 "metadata": {
  "kernelspec": {
   "display_name": "Python 3",
   "language": "python",
   "name": "python3"
  },
  "language_info": {
   "codemirror_mode": {
    "name": "ipython",
    "version": 3
   },
   "file_extension": ".py",
   "mimetype": "text/x-python",
   "name": "python",
   "nbconvert_exporter": "python",
   "pygments_lexer": "ipython3",
   "version": "3.8.3"
  }
 },
 "nbformat": 4,
 "nbformat_minor": 4
}
