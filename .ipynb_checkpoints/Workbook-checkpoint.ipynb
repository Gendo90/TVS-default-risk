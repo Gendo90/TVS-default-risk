{
 "cells": [
  {
   "cell_type": "code",
   "execution_count": 1,
   "metadata": {},
   "outputs": [],
   "source": [
    "import pandas as pd"
   ]
  },
  {
   "cell_type": "code",
   "execution_count": 2,
   "metadata": {},
   "outputs": [
    {
     "ename": "FileNotFoundError",
     "evalue": "[Errno 2] No such file or directory: './TVS.csv'",
     "output_type": "error",
     "traceback": [
      "\u001b[1;31m---------------------------------------------------------------------------\u001b[0m",
      "\u001b[1;31mFileNotFoundError\u001b[0m                         Traceback (most recent call last)",
      "\u001b[1;32m<ipython-input-2-3175826a95b5>\u001b[0m in \u001b[0;36m<module>\u001b[1;34m\u001b[0m\n\u001b[1;32m----> 1\u001b[1;33m \u001b[0mtest_data\u001b[0m \u001b[1;33m=\u001b[0m \u001b[0mpd\u001b[0m\u001b[1;33m.\u001b[0m\u001b[0mread_csv\u001b[0m\u001b[1;33m(\u001b[0m\u001b[1;34m\"./TVS.csv\"\u001b[0m\u001b[1;33m,\u001b[0m \u001b[0mencoding\u001b[0m \u001b[1;33m=\u001b[0m \u001b[1;34m'utf-8'\u001b[0m\u001b[1;33m)\u001b[0m\u001b[1;33m\u001b[0m\u001b[1;33m\u001b[0m\u001b[0m\n\u001b[0m",
      "\u001b[1;32mC:\\ProgramData\\Anaconda3\\lib\\site-packages\\pandas\\io\\parsers.py\u001b[0m in \u001b[0;36mparser_f\u001b[1;34m(filepath_or_buffer, sep, delimiter, header, names, index_col, usecols, squeeze, prefix, mangle_dupe_cols, dtype, engine, converters, true_values, false_values, skipinitialspace, skiprows, skipfooter, nrows, na_values, keep_default_na, na_filter, verbose, skip_blank_lines, parse_dates, infer_datetime_format, keep_date_col, date_parser, dayfirst, cache_dates, iterator, chunksize, compression, thousands, decimal, lineterminator, quotechar, quoting, doublequote, escapechar, comment, encoding, dialect, error_bad_lines, warn_bad_lines, delim_whitespace, low_memory, memory_map, float_precision)\u001b[0m\n\u001b[0;32m    674\u001b[0m         )\n\u001b[0;32m    675\u001b[0m \u001b[1;33m\u001b[0m\u001b[0m\n\u001b[1;32m--> 676\u001b[1;33m         \u001b[1;32mreturn\u001b[0m \u001b[0m_read\u001b[0m\u001b[1;33m(\u001b[0m\u001b[0mfilepath_or_buffer\u001b[0m\u001b[1;33m,\u001b[0m \u001b[0mkwds\u001b[0m\u001b[1;33m)\u001b[0m\u001b[1;33m\u001b[0m\u001b[1;33m\u001b[0m\u001b[0m\n\u001b[0m\u001b[0;32m    677\u001b[0m \u001b[1;33m\u001b[0m\u001b[0m\n\u001b[0;32m    678\u001b[0m     \u001b[0mparser_f\u001b[0m\u001b[1;33m.\u001b[0m\u001b[0m__name__\u001b[0m \u001b[1;33m=\u001b[0m \u001b[0mname\u001b[0m\u001b[1;33m\u001b[0m\u001b[1;33m\u001b[0m\u001b[0m\n",
      "\u001b[1;32mC:\\ProgramData\\Anaconda3\\lib\\site-packages\\pandas\\io\\parsers.py\u001b[0m in \u001b[0;36m_read\u001b[1;34m(filepath_or_buffer, kwds)\u001b[0m\n\u001b[0;32m    446\u001b[0m \u001b[1;33m\u001b[0m\u001b[0m\n\u001b[0;32m    447\u001b[0m     \u001b[1;31m# Create the parser.\u001b[0m\u001b[1;33m\u001b[0m\u001b[1;33m\u001b[0m\u001b[1;33m\u001b[0m\u001b[0m\n\u001b[1;32m--> 448\u001b[1;33m     \u001b[0mparser\u001b[0m \u001b[1;33m=\u001b[0m \u001b[0mTextFileReader\u001b[0m\u001b[1;33m(\u001b[0m\u001b[0mfp_or_buf\u001b[0m\u001b[1;33m,\u001b[0m \u001b[1;33m**\u001b[0m\u001b[0mkwds\u001b[0m\u001b[1;33m)\u001b[0m\u001b[1;33m\u001b[0m\u001b[1;33m\u001b[0m\u001b[0m\n\u001b[0m\u001b[0;32m    449\u001b[0m \u001b[1;33m\u001b[0m\u001b[0m\n\u001b[0;32m    450\u001b[0m     \u001b[1;32mif\u001b[0m \u001b[0mchunksize\u001b[0m \u001b[1;32mor\u001b[0m \u001b[0miterator\u001b[0m\u001b[1;33m:\u001b[0m\u001b[1;33m\u001b[0m\u001b[1;33m\u001b[0m\u001b[0m\n",
      "\u001b[1;32mC:\\ProgramData\\Anaconda3\\lib\\site-packages\\pandas\\io\\parsers.py\u001b[0m in \u001b[0;36m__init__\u001b[1;34m(self, f, engine, **kwds)\u001b[0m\n\u001b[0;32m    878\u001b[0m             \u001b[0mself\u001b[0m\u001b[1;33m.\u001b[0m\u001b[0moptions\u001b[0m\u001b[1;33m[\u001b[0m\u001b[1;34m\"has_index_names\"\u001b[0m\u001b[1;33m]\u001b[0m \u001b[1;33m=\u001b[0m \u001b[0mkwds\u001b[0m\u001b[1;33m[\u001b[0m\u001b[1;34m\"has_index_names\"\u001b[0m\u001b[1;33m]\u001b[0m\u001b[1;33m\u001b[0m\u001b[1;33m\u001b[0m\u001b[0m\n\u001b[0;32m    879\u001b[0m \u001b[1;33m\u001b[0m\u001b[0m\n\u001b[1;32m--> 880\u001b[1;33m         \u001b[0mself\u001b[0m\u001b[1;33m.\u001b[0m\u001b[0m_make_engine\u001b[0m\u001b[1;33m(\u001b[0m\u001b[0mself\u001b[0m\u001b[1;33m.\u001b[0m\u001b[0mengine\u001b[0m\u001b[1;33m)\u001b[0m\u001b[1;33m\u001b[0m\u001b[1;33m\u001b[0m\u001b[0m\n\u001b[0m\u001b[0;32m    881\u001b[0m \u001b[1;33m\u001b[0m\u001b[0m\n\u001b[0;32m    882\u001b[0m     \u001b[1;32mdef\u001b[0m \u001b[0mclose\u001b[0m\u001b[1;33m(\u001b[0m\u001b[0mself\u001b[0m\u001b[1;33m)\u001b[0m\u001b[1;33m:\u001b[0m\u001b[1;33m\u001b[0m\u001b[1;33m\u001b[0m\u001b[0m\n",
      "\u001b[1;32mC:\\ProgramData\\Anaconda3\\lib\\site-packages\\pandas\\io\\parsers.py\u001b[0m in \u001b[0;36m_make_engine\u001b[1;34m(self, engine)\u001b[0m\n\u001b[0;32m   1112\u001b[0m     \u001b[1;32mdef\u001b[0m \u001b[0m_make_engine\u001b[0m\u001b[1;33m(\u001b[0m\u001b[0mself\u001b[0m\u001b[1;33m,\u001b[0m \u001b[0mengine\u001b[0m\u001b[1;33m=\u001b[0m\u001b[1;34m\"c\"\u001b[0m\u001b[1;33m)\u001b[0m\u001b[1;33m:\u001b[0m\u001b[1;33m\u001b[0m\u001b[1;33m\u001b[0m\u001b[0m\n\u001b[0;32m   1113\u001b[0m         \u001b[1;32mif\u001b[0m \u001b[0mengine\u001b[0m \u001b[1;33m==\u001b[0m \u001b[1;34m\"c\"\u001b[0m\u001b[1;33m:\u001b[0m\u001b[1;33m\u001b[0m\u001b[1;33m\u001b[0m\u001b[0m\n\u001b[1;32m-> 1114\u001b[1;33m             \u001b[0mself\u001b[0m\u001b[1;33m.\u001b[0m\u001b[0m_engine\u001b[0m \u001b[1;33m=\u001b[0m \u001b[0mCParserWrapper\u001b[0m\u001b[1;33m(\u001b[0m\u001b[0mself\u001b[0m\u001b[1;33m.\u001b[0m\u001b[0mf\u001b[0m\u001b[1;33m,\u001b[0m \u001b[1;33m**\u001b[0m\u001b[0mself\u001b[0m\u001b[1;33m.\u001b[0m\u001b[0moptions\u001b[0m\u001b[1;33m)\u001b[0m\u001b[1;33m\u001b[0m\u001b[1;33m\u001b[0m\u001b[0m\n\u001b[0m\u001b[0;32m   1115\u001b[0m         \u001b[1;32melse\u001b[0m\u001b[1;33m:\u001b[0m\u001b[1;33m\u001b[0m\u001b[1;33m\u001b[0m\u001b[0m\n\u001b[0;32m   1116\u001b[0m             \u001b[1;32mif\u001b[0m \u001b[0mengine\u001b[0m \u001b[1;33m==\u001b[0m \u001b[1;34m\"python\"\u001b[0m\u001b[1;33m:\u001b[0m\u001b[1;33m\u001b[0m\u001b[1;33m\u001b[0m\u001b[0m\n",
      "\u001b[1;32mC:\\ProgramData\\Anaconda3\\lib\\site-packages\\pandas\\io\\parsers.py\u001b[0m in \u001b[0;36m__init__\u001b[1;34m(self, src, **kwds)\u001b[0m\n\u001b[0;32m   1872\u001b[0m         \u001b[1;32mif\u001b[0m \u001b[0mkwds\u001b[0m\u001b[1;33m.\u001b[0m\u001b[0mget\u001b[0m\u001b[1;33m(\u001b[0m\u001b[1;34m\"compression\"\u001b[0m\u001b[1;33m)\u001b[0m \u001b[1;32mis\u001b[0m \u001b[1;32mNone\u001b[0m \u001b[1;32mand\u001b[0m \u001b[0mencoding\u001b[0m\u001b[1;33m:\u001b[0m\u001b[1;33m\u001b[0m\u001b[1;33m\u001b[0m\u001b[0m\n\u001b[0;32m   1873\u001b[0m             \u001b[1;32mif\u001b[0m \u001b[0misinstance\u001b[0m\u001b[1;33m(\u001b[0m\u001b[0msrc\u001b[0m\u001b[1;33m,\u001b[0m \u001b[0mstr\u001b[0m\u001b[1;33m)\u001b[0m\u001b[1;33m:\u001b[0m\u001b[1;33m\u001b[0m\u001b[1;33m\u001b[0m\u001b[0m\n\u001b[1;32m-> 1874\u001b[1;33m                 \u001b[0msrc\u001b[0m \u001b[1;33m=\u001b[0m \u001b[0mopen\u001b[0m\u001b[1;33m(\u001b[0m\u001b[0msrc\u001b[0m\u001b[1;33m,\u001b[0m \u001b[1;34m\"rb\"\u001b[0m\u001b[1;33m)\u001b[0m\u001b[1;33m\u001b[0m\u001b[1;33m\u001b[0m\u001b[0m\n\u001b[0m\u001b[0;32m   1875\u001b[0m                 \u001b[0mself\u001b[0m\u001b[1;33m.\u001b[0m\u001b[0mhandles\u001b[0m\u001b[1;33m.\u001b[0m\u001b[0mappend\u001b[0m\u001b[1;33m(\u001b[0m\u001b[0msrc\u001b[0m\u001b[1;33m)\u001b[0m\u001b[1;33m\u001b[0m\u001b[1;33m\u001b[0m\u001b[0m\n\u001b[0;32m   1876\u001b[0m \u001b[1;33m\u001b[0m\u001b[0m\n",
      "\u001b[1;31mFileNotFoundError\u001b[0m: [Errno 2] No such file or directory: './TVS.csv'"
     ]
    }
   ],
   "source": [
    "test_data = pd.read_csv(\"./TVS.csv\", encoding = 'utf-8')"
   ]
  },
  {
   "cell_type": "code",
   "execution_count": null,
   "metadata": {},
   "outputs": [],
   "source": [
    "# test_data"
   ]
  },
  {
   "cell_type": "code",
   "execution_count": null,
   "metadata": {},
   "outputs": [],
   "source": [
    "test_data['Time since last Personal loan taken (in months)'] = test_data['Time since last Personal loan taken (in months)'].fillna(0)\n",
    "test_data['Time since first consumer durables loan taken (in months)'] = test_data['Time since first consumer durables loan taken (in months)'].fillna(0)\n",
    "test_data['Total sanctioned amount in the secured Loans which are Live'] = test_data['Total sanctioned amount in the secured Loans which are Live'].fillna(0)\n",
    "test_data['Total sanctioned amount in the unsecured Loans which are Live'] = test_data['Total sanctioned amount in the unsecured Loans which are Live'].fillna(0)\n",
    "test_data['Maximum amount sanctioned in the Live loans'] = test_data['Maximum amount sanctioned in the Live loans'].fillna(0)"
   ]
  },
  {
   "cell_type": "code",
   "execution_count": null,
   "metadata": {},
   "outputs": [],
   "source": [
    "new_test_data = test_data.dropna()\n",
    "new_test_data = new_test_data.drop(['Date of Birth'],axis=1)\n",
    "# new_test_data"
   ]
  },
  {
   "cell_type": "code",
   "execution_count": null,
   "metadata": {},
   "outputs": [],
   "source": [
    "x_df = new_test_data\n",
    "\n",
    "x_df['Motorcycle'] = x_df['Product code of Two wheeler (MC : Motorcycle , MO : Moped, SC : Scooter)']\n",
    "x_df['Moped'] = x_df['Product code of Two wheeler (MC : Motorcycle , MO : Moped, SC : Scooter)']\n",
    "x_df['Scooter'] = x_df['Product code of Two wheeler (MC : Motorcycle , MO : Moped, SC : Scooter)']\n",
    "\n",
    "x_df['Motorcycle'].replace('MC', '1',inplace=True)\n",
    "x_df['Motorcycle'].replace('SC', '0',inplace=True)\n",
    "x_df['Motorcycle'].replace('MO', '0',inplace=True)\n",
    "\n",
    "x_df['Moped'].replace('MC', '0',inplace=True)\n",
    "x_df['Moped'].replace('SC', '0',inplace=True)\n",
    "x_df['Moped'].replace('MO', '1',inplace=True)\n",
    "\n",
    "x_df['Scooter'].replace('MC', '0',inplace=True)\n",
    "x_df['Scooter'].replace('SC', '1',inplace=True)\n",
    "x_df['Scooter'].replace('MO', '0',inplace=True)\n",
    "\n",
    "x_df = x_df.drop(['Product code of Two wheeler (MC : Motorcycle , MO : Moped, SC : Scooter)'],axis=1)"
   ]
  },
  {
   "cell_type": "code",
   "execution_count": null,
   "metadata": {},
   "outputs": [],
   "source": [
    "y_df = x_df\n",
    "y_df['Geographical Location 1'] = y_df['Tier ; (Customer’s geographical location)']\n",
    "y_df['Geographical Location 2'] = y_df['Tier ; (Customer’s geographical location)']\n",
    "y_df['Geographical Location 3'] = y_df['Tier ; (Customer’s geographical location)']\n",
    "y_df['Geographical Location 4'] = y_df['Tier ; (Customer’s geographical location)']\n",
    "\n",
    "y_df['Geographical Location 1'].replace('TIER 1', '1',inplace=True)\n",
    "y_df['Geographical Location 1'].replace('TIER 2', '0',inplace=True)\n",
    "y_df['Geographical Location 1'].replace('TIER 3', '0',inplace=True)\n",
    "y_df['Geographical Location 1'].replace('TIER 4', '0',inplace=True)\n",
    "\n",
    "y_df['Geographical Location 2'].replace('TIER 1', '0',inplace=True)\n",
    "y_df['Geographical Location 2'].replace('TIER 2', '1',inplace=True)\n",
    "y_df['Geographical Location 2'].replace('TIER 3', '0',inplace=True)\n",
    "y_df['Geographical Location 2'].replace('TIER 4', '0',inplace=True)\n",
    "\n",
    "\n",
    "y_df['Geographical Location 3'].replace('TIER 1', '0',inplace=True)\n",
    "y_df['Geographical Location 3'].replace('TIER 2', '0',inplace=True)\n",
    "y_df['Geographical Location 3'].replace('TIER 3', '1',inplace=True)\n",
    "y_df['Geographical Location 3'].replace('TIER 4', '0',inplace=True)\n",
    "\n",
    "\n",
    "y_df['Geographical Location 4'].replace('TIER 1', '0',inplace=True)\n",
    "y_df['Geographical Location 4'].replace('TIER 2', '0',inplace=True)\n",
    "y_df['Geographical Location 4'].replace('TIER 3', '0',inplace=True)\n",
    "y_df['Geographical Location 4'].replace('TIER 4', '1',inplace=True)\n",
    "\n",
    "y_df = y_df.drop(['Tier ; (Customer’s geographical location)'],axis=1)\n",
    "# y_df"
   ]
  },
  {
   "cell_type": "code",
   "execution_count": null,
   "metadata": {},
   "outputs": [],
   "source": [
    "z_df = y_df\n",
    "\n",
    "z_df.groupby(['Employment type (HOUSEWIFE : housewife, SELF : Self-employed, SAL : Salaried, PENS : Pensioner, STUDENT : Student)']).count()\n",
    "\n",
    "z_df['Housewife'] = z_df['Employment type (HOUSEWIFE : housewife, SELF : Self-employed, SAL : Salaried, PENS : Pensioner, STUDENT : Student)']\n",
    "z_df['Self-Employed'] = z_df['Employment type (HOUSEWIFE : housewife, SELF : Self-employed, SAL : Salaried, PENS : Pensioner, STUDENT : Student)']\n",
    "z_df['Salaried'] = z_df['Employment type (HOUSEWIFE : housewife, SELF : Self-employed, SAL : Salaried, PENS : Pensioner, STUDENT : Student)']\n",
    "z_df['Pensioner'] = z_df['Employment type (HOUSEWIFE : housewife, SELF : Self-employed, SAL : Salaried, PENS : Pensioner, STUDENT : Student)']\n",
    "z_df['Student'] = z_df['Employment type (HOUSEWIFE : housewife, SELF : Self-employed, SAL : Salaried, PENS : Pensioner, STUDENT : Student)']\n",
    "\n",
    "z_df['Housewife'].replace('HOUSEWIFE', '1',inplace=True)\n",
    "z_df['Housewife'].replace('SELF', '0',inplace=True)\n",
    "z_df['Housewife'].replace('SAL', '0',inplace=True)\n",
    "z_df['Housewife'].replace('PENS', '0',inplace=True)\n",
    "z_df['Housewife'].replace('STUDENT', '0',inplace=True)\n",
    "\n",
    "z_df['Self-Employed'].replace('HOUSEWIFE', '0',inplace=True)\n",
    "z_df['Self-Employed'].replace('SELF', '1',inplace=True)\n",
    "z_df['Self-Employed'].replace('SAL', '0',inplace=True)\n",
    "z_df['Self-Employed'].replace('PENS', '0',inplace=True)\n",
    "z_df['Self-Employed'].replace('STUDENT', '0',inplace=True)\n",
    "\n",
    "z_df['Salaried'].replace('HOUSEWIFE', '0',inplace=True)\n",
    "z_df['Salaried'].replace('SELF', '0',inplace=True)\n",
    "z_df['Salaried'].replace('SAL', '1',inplace=True)\n",
    "z_df['Salaried'].replace('PENS', '0',inplace=True)\n",
    "z_df['Salaried'].replace('STUDENT', '0',inplace=True)\n",
    "\n",
    "z_df['Pensioner'].replace('HOUSEWIFE', '0',inplace=True)\n",
    "z_df['Pensioner'].replace('SELF', '0',inplace=True)\n",
    "z_df['Pensioner'].replace('SAL', '0',inplace=True)\n",
    "z_df['Pensioner'].replace('PENS', '1',inplace=True)\n",
    "z_df['Pensioner'].replace('STUDENT', '0',inplace=True)\n",
    "\n",
    "z_df['Student'].replace('HOUSEWIFE', '0',inplace=True)\n",
    "z_df['Student'].replace('SELF', '0',inplace=True)\n",
    "z_df['Student'].replace('SAL', '0',inplace=True)\n",
    "z_df['Student'].replace('PENS', '0',inplace=True)\n",
    "z_df['Student'].replace('STUDENT', '1',inplace=True)\n",
    "\n",
    "z_df = z_df.drop(['Employment type (HOUSEWIFE : housewife, SELF : Self-employed, SAL : Salaried, PENS : Pensioner, STUDENT : Student)'],axis=1)\n",
    "# z_df"
   ]
  },
  {
   "cell_type": "code",
   "execution_count": null,
   "metadata": {},
   "outputs": [],
   "source": [
    "a_df = z_df\n",
    "a_df['Gender'].replace('MALE', '0',inplace=True)\n",
    "a_df['Gender'].replace('FEMALE', '1',inplace=True)\n",
    "a_df = a_df.rename(columns={'Gender':'Gender(Male = 0, Female = 1)'})\n",
    "\n",
    "# a_df"
   ]
  },
  {
   "cell_type": "code",
   "execution_count": null,
   "metadata": {},
   "outputs": [],
   "source": [
    "b_df = a_df\n",
    "\n",
    "b_df['Residence Owned By Office'] = b_df['Resident type of customer']\n",
    "b_df['Residence Owned'] = b_df['Resident type of customer']\n",
    "b_df['Residence Rented'] = b_df['Resident type of customer']\n",
    "\n",
    "b_df['Residence Owned By Office'].replace('OWENED BY OFFICE', '1',inplace=True)\n",
    "b_df['Residence Owned By Office'].replace('OWNED', '0',inplace=True)\n",
    "b_df['Residence Owned By Office'].replace('RENT', '0',inplace=True)\n",
    "\n",
    "b_df['Residence Owned'].replace('OWENED BY OFFICE', '0',inplace=True)\n",
    "b_df['Residence Owned'].replace('OWNED', '1',inplace=True)\n",
    "b_df['Residence Owned'].replace('RENT', '0',inplace=True)\n",
    "\n",
    "b_df['Residence Rented'].replace('OWENED BY OFFICE', '0',inplace=True)\n",
    "b_df['Residence Rented'].replace('OWNED', '0',inplace=True)\n",
    "b_df['Residence Rented'].replace('RENT', '1',inplace=True)\n",
    "\n",
    "b_df = b_df.drop(['Resident type of customer'],axis=1)\n",
    "# b_df"
   ]
  },
  {
   "cell_type": "code",
   "execution_count": null,
   "metadata": {
    "scrolled": false
   },
   "outputs": [],
   "source": [
    "final_df = b_df\n",
    "final_df"
   ]
  },
  {
   "cell_type": "code",
   "execution_count": null,
   "metadata": {},
   "outputs": [],
   "source": [
    "test_data = pd.read_csv(\"./TVS.csv\", encoding = 'utf-8')"
   ]
  },
  {
   "cell_type": "code",
   "execution_count": null,
   "metadata": {},
   "outputs": [],
   "source": []
  }
 ],
 "metadata": {
  "kernelspec": {
   "display_name": "Python 3",
   "language": "python",
   "name": "python3"
  },
  "language_info": {
   "codemirror_mode": {
    "name": "ipython",
    "version": 3
   },
   "file_extension": ".py",
   "mimetype": "text/x-python",
   "name": "python",
   "nbconvert_exporter": "python",
   "pygments_lexer": "ipython3",
   "version": "3.7.6"
  }
 },
 "nbformat": 4,
 "nbformat_minor": 4
}
