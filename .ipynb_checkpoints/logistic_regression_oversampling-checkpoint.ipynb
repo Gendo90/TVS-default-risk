{
 "cells": [
  {
   "cell_type": "code",
   "execution_count": null,
   "metadata": {},
   "outputs": [],
   "source": [
    "# Update sklearn to prevent version mismatches\n",
    "!pip install sklearn --upgrade"
   ]
  },
  {
   "cell_type": "code",
   "execution_count": 28,
   "metadata": {},
   "outputs": [],
   "source": [
    "%matplotlib inline\n",
    "import matplotlib.pyplot as plt\n",
    "import pandas as pd\n",
    "import os\n",
    "import numpy as np"
   ]
  },
  {
   "cell_type": "markdown",
   "metadata": {},
   "source": [
    "# Import Data"
   ]
  },
  {
   "cell_type": "code",
   "execution_count": 29,
   "metadata": {},
   "outputs": [
    {
     "data": {
      "text/plain": [
       "Index(['Customer ID',\n",
       "       'If a customer has bounced in first EMI (1 : Bounced, 0 : Not bounced)',\n",
       "       'Number of times bounced in recent 12 months',\n",
       "       'Maximum MOB (Month of business with TVS Credit)',\n",
       "       'Number of times bounced while repaying the loan', 'EMI', 'Loan Amount',\n",
       "       'Tenure',\n",
       "       'Dealer codes from where customer has purchased the Two wheeler',\n",
       "       'No of advance EMI paid', 'Rate of Interest',\n",
       "       'Gender(Male = 0, Female = 1)',\n",
       "       'Age at which customer has taken the loan', 'Number of loans',\n",
       "       ' Number of secured loans', ' Number of unsecured loans',\n",
       "       'Maximum amount sanctioned in the Live loans',\n",
       "       'Number of new loans in last 3 months',\n",
       "       'Total sanctioned amount in the secured Loans which are Live',\n",
       "       'Total sanctioned amount in the unsecured Loans which are Live',\n",
       "       'Maximum amount sanctioned for any Two wheeler loan',\n",
       "       'Time since last Personal loan taken (in months)',\n",
       "       'Time since first consumer durables loan taken (in months)',\n",
       "       'Number of times 30 days past due in last 6 months',\n",
       "       'Number of times 60 days past due in last 6 months',\n",
       "       'Number of times 90 days past due in last 3 months',\n",
       "       'Target variable ( 1: Defaulters / 0: Non-Defaulters)', 'Motorcycle',\n",
       "       'Moped', 'Scooter', 'Geographical Location 1',\n",
       "       'Geographical Location 2', 'Geographical Location 3',\n",
       "       'Geographical Location 4', 'Housewife', 'Self-Employed', 'Salaried',\n",
       "       'Pensioner', 'Student', 'Residence Owned By Office', 'Residence Owned',\n",
       "       'Residence Rented'],\n",
       "      dtype='object')"
      ]
     },
     "execution_count": 29,
     "metadata": {},
     "output_type": "execute_result"
    }
   ],
   "source": [
    "#Import cleaned csv file\n",
    "data = pd.read_csv(\"output.csv\")\n",
    "data.columns"
   ]
  },
  {
   "cell_type": "code",
   "execution_count": 30,
   "metadata": {},
   "outputs": [],
   "source": [
    "#Select only relevant columns\n",
    "model_data = data[[\n",
    "    'EMI', \n",
    "    'Loan Amount', \n",
    "    'Maximum amount sanctioned for any Two wheeler loan',\n",
    "    'Age at which customer has taken the loan', \n",
    "    'Rate of Interest', \n",
    "    'Number of times 30 days past due in last 6 months', \n",
    "    'Maximum MOB (Month of business with TVS Credit)', \n",
    "    'Number of times 60 days past due in last 6 months', \n",
    "    'Number of loans', \n",
    "    'Maximum amount sanctioned in the Live loans', \n",
    "    'Number of times 90 days past due in last 3 months', \n",
    "    'Tenure', \n",
    "    'Number of times bounced while repaying the loan',\n",
    "    'Target variable ( 1: Defaulters / 0: Non-Defaulters)'\n",
    "]]\n"
   ]
  },
  {
   "cell_type": "code",
   "execution_count": 31,
   "metadata": {},
   "outputs": [
    {
     "data": {
      "text/html": [
       "<div>\n",
       "<style scoped>\n",
       "    .dataframe tbody tr th:only-of-type {\n",
       "        vertical-align: middle;\n",
       "    }\n",
       "\n",
       "    .dataframe tbody tr th {\n",
       "        vertical-align: top;\n",
       "    }\n",
       "\n",
       "    .dataframe thead th {\n",
       "        text-align: right;\n",
       "    }\n",
       "</style>\n",
       "<table border=\"1\" class=\"dataframe\">\n",
       "  <thead>\n",
       "    <tr style=\"text-align: right;\">\n",
       "      <th></th>\n",
       "      <th>EMI</th>\n",
       "      <th>Loan Amount</th>\n",
       "      <th>Maximum amount sanctioned for any Two wheeler loan</th>\n",
       "      <th>Age at which customer has taken the loan</th>\n",
       "      <th>Rate of Interest</th>\n",
       "      <th>Number of times 30 days past due in last 6 months</th>\n",
       "      <th>Maximum MOB (Month of business with TVS Credit)</th>\n",
       "      <th>Number of times 60 days past due in last 6 months</th>\n",
       "      <th>Number of loans</th>\n",
       "      <th>Maximum amount sanctioned in the Live loans</th>\n",
       "      <th>Number of times 90 days past due in last 3 months</th>\n",
       "      <th>Tenure</th>\n",
       "      <th>Number of times bounced while repaying the loan</th>\n",
       "      <th>Class</th>\n",
       "    </tr>\n",
       "  </thead>\n",
       "  <tbody>\n",
       "    <tr>\n",
       "      <th>0</th>\n",
       "      <td>2432.0</td>\n",
       "      <td>46500.0</td>\n",
       "      <td>46500.0</td>\n",
       "      <td>40.0</td>\n",
       "      <td>12.75</td>\n",
       "      <td>0</td>\n",
       "      <td>24.0</td>\n",
       "      <td>0</td>\n",
       "      <td>1</td>\n",
       "      <td>0.0</td>\n",
       "      <td>0</td>\n",
       "      <td>24.0</td>\n",
       "      <td>0.0</td>\n",
       "      <td>0</td>\n",
       "    </tr>\n",
       "    <tr>\n",
       "      <th>1</th>\n",
       "      <td>1495.0</td>\n",
       "      <td>28168.0</td>\n",
       "      <td>28168.0</td>\n",
       "      <td>47.0</td>\n",
       "      <td>13.65</td>\n",
       "      <td>0</td>\n",
       "      <td>24.0</td>\n",
       "      <td>0</td>\n",
       "      <td>1</td>\n",
       "      <td>0.0</td>\n",
       "      <td>0</td>\n",
       "      <td>24.0</td>\n",
       "      <td>1.0</td>\n",
       "      <td>0</td>\n",
       "    </tr>\n",
       "    <tr>\n",
       "      <th>2</th>\n",
       "      <td>1707.0</td>\n",
       "      <td>38900.0</td>\n",
       "      <td>38900.0</td>\n",
       "      <td>31.0</td>\n",
       "      <td>12.65</td>\n",
       "      <td>31</td>\n",
       "      <td>26.0</td>\n",
       "      <td>31</td>\n",
       "      <td>9</td>\n",
       "      <td>55000.0</td>\n",
       "      <td>16</td>\n",
       "      <td>30.0</td>\n",
       "      <td>0.0</td>\n",
       "      <td>0</td>\n",
       "    </tr>\n",
       "    <tr>\n",
       "      <th>3</th>\n",
       "      <td>2128.0</td>\n",
       "      <td>42900.0</td>\n",
       "      <td>42900.0</td>\n",
       "      <td>24.0</td>\n",
       "      <td>9.50</td>\n",
       "      <td>0</td>\n",
       "      <td>24.0</td>\n",
       "      <td>0</td>\n",
       "      <td>1</td>\n",
       "      <td>0.0</td>\n",
       "      <td>0</td>\n",
       "      <td>24.0</td>\n",
       "      <td>0.0</td>\n",
       "      <td>0</td>\n",
       "    </tr>\n",
       "    <tr>\n",
       "      <th>4</th>\n",
       "      <td>1824.0</td>\n",
       "      <td>40900.0</td>\n",
       "      <td>40900.0</td>\n",
       "      <td>30.0</td>\n",
       "      <td>13.50</td>\n",
       "      <td>0</td>\n",
       "      <td>27.0</td>\n",
       "      <td>0</td>\n",
       "      <td>1</td>\n",
       "      <td>0.0</td>\n",
       "      <td>0</td>\n",
       "      <td>30.0</td>\n",
       "      <td>0.0</td>\n",
       "      <td>0</td>\n",
       "    </tr>\n",
       "  </tbody>\n",
       "</table>\n",
       "</div>"
      ],
      "text/plain": [
       "      EMI  Loan Amount  Maximum amount sanctioned for any Two wheeler loan  \\\n",
       "0  2432.0      46500.0                                            46500.0    \n",
       "1  1495.0      28168.0                                            28168.0    \n",
       "2  1707.0      38900.0                                            38900.0    \n",
       "3  2128.0      42900.0                                            42900.0    \n",
       "4  1824.0      40900.0                                            40900.0    \n",
       "\n",
       "   Age at which customer has taken the loan  Rate of Interest  \\\n",
       "0                                      40.0             12.75   \n",
       "1                                      47.0             13.65   \n",
       "2                                      31.0             12.65   \n",
       "3                                      24.0              9.50   \n",
       "4                                      30.0             13.50   \n",
       "\n",
       "   Number of times 30 days past due in last 6 months  \\\n",
       "0                                                  0   \n",
       "1                                                  0   \n",
       "2                                                 31   \n",
       "3                                                  0   \n",
       "4                                                  0   \n",
       "\n",
       "   Maximum MOB (Month of business with TVS Credit)  \\\n",
       "0                                             24.0   \n",
       "1                                             24.0   \n",
       "2                                             26.0   \n",
       "3                                             24.0   \n",
       "4                                             27.0   \n",
       "\n",
       "   Number of times 60 days past due in last 6 months  Number of loans  \\\n",
       "0                                                  0                1   \n",
       "1                                                  0                1   \n",
       "2                                                 31                9   \n",
       "3                                                  0                1   \n",
       "4                                                  0                1   \n",
       "\n",
       "   Maximum amount sanctioned in the Live loans  \\\n",
       "0                                          0.0   \n",
       "1                                          0.0   \n",
       "2                                      55000.0   \n",
       "3                                          0.0   \n",
       "4                                          0.0   \n",
       "\n",
       "   Number of times 90 days past due in last 3 months  Tenure  \\\n",
       "0                                                  0    24.0   \n",
       "1                                                  0    24.0   \n",
       "2                                                 16    30.0   \n",
       "3                                                  0    24.0   \n",
       "4                                                  0    30.0   \n",
       "\n",
       "   Number of times bounced while repaying the loan  Class  \n",
       "0                                              0.0      0  \n",
       "1                                              1.0      0  \n",
       "2                                              0.0      0  \n",
       "3                                              0.0      0  \n",
       "4                                              0.0      0  "
      ]
     },
     "execution_count": 31,
     "metadata": {},
     "output_type": "execute_result"
    }
   ],
   "source": [
    "#Rename Dependent Variable Column to \"Class\"\n",
    "model_data = model_data.rename(columns={\"Target variable ( 1: Defaulters / 0: Non-Defaulters)\": \"Class\"})\n",
    "model_data.head()"
   ]
  },
  {
   "cell_type": "markdown",
   "metadata": {},
   "source": [
    "# Train the Model"
   ]
  },
  {
   "cell_type": "code",
   "execution_count": 32,
   "metadata": {},
   "outputs": [
    {
     "name": "stdout",
     "output_type": "stream",
     "text": [
      "X Shape: (73532, 13)\n",
      "y Shape: (73532,)\n"
     ]
    }
   ],
   "source": [
    "# Assign X (data) and y (target)\n",
    "X = model_data.drop('Class', axis=1)\n",
    "y = model_data['Class']\n",
    "print(f\"X Shape: {X.shape}\")\n",
    "print(f\"y Shape: {y.shape}\")"
   ]
  },
  {
   "cell_type": "code",
   "execution_count": 33,
   "metadata": {},
   "outputs": [],
   "source": [
    "#Train Test Split\n",
    "from sklearn.model_selection import train_test_split\n",
    "X_train, X_test, y_train, y_test = train_test_split(X, y, test_size=0.2, train_size=0.8, random_state=10)"
   ]
  },
  {
   "cell_type": "markdown",
   "metadata": {},
   "source": [
    "#Resample Data using Oversampling Technique"
   ]
  },
  {
   "cell_type": "code",
   "execution_count": 34,
   "metadata": {},
   "outputs": [
    {
     "name": "stdout",
     "output_type": "stream",
     "text": [
      "0    57489\n",
      "Name: Class, dtype: int64\n",
      "1    1336\n",
      "Name: Class, dtype: int64\n"
     ]
    }
   ],
   "source": [
    "# concatenate our training data back together\n",
    "X = pd.concat([X_train, y_train], axis=1)\n",
    "\n",
    "# separate minority and majority classes\n",
    "not_defaulted = X[X.Class==0]\n",
    "defaulted = X[X.Class==1]\n",
    "\n",
    "print(not_defaulted.Class.value_counts())\n",
    "print(defaulted.Class.value_counts())"
   ]
  },
  {
   "cell_type": "code",
   "execution_count": 35,
   "metadata": {},
   "outputs": [
    {
     "data": {
      "text/plain": [
       "1    57489\n",
       "0    57489\n",
       "Name: Class, dtype: int64"
      ]
     },
     "execution_count": 35,
     "metadata": {},
     "output_type": "execute_result"
    }
   ],
   "source": [
    "from sklearn.utils import resample\n",
    "# upsample minority\n",
    "defaulted_upsampled = resample(defaulted,\n",
    "                               replace=True,\n",
    "                               n_samples=len(not_defaulted),\n",
    "                               random_state=27)\n",
    "# combine majority and upsampled minority\n",
    "upsampled = pd.concat([not_defaulted, defaulted_upsampled])\n",
    "upsampled.Class.value_counts()"
   ]
  },
  {
   "cell_type": "code",
   "execution_count": 36,
   "metadata": {},
   "outputs": [],
   "source": [
    "#redefine the X and y training samples\n",
    "y_train = upsampled.Class\n",
    "X_train = upsampled.drop('Class', axis=1)"
   ]
  },
  {
   "cell_type": "code",
   "execution_count": 37,
   "metadata": {},
   "outputs": [
    {
     "name": "stdout",
     "output_type": "stream",
     "text": [
      "Training Data Score: 0.7754266033502061\n",
      "Testing Data Score: 0.8415720405249201\n"
     ]
    }
   ],
   "source": [
    "#Define the classifier as a logistic regression model\n",
    "from sklearn.linear_model import LogisticRegression\n",
    "classifier = LogisticRegression(C=0.004832930238571752, class_weight=None, dual=False,\n",
    "                   fit_intercept=True, intercept_scaling=1, l1_ratio=None,\n",
    "                   max_iter=5000, multi_class='auto', n_jobs=None, penalty='l1',\n",
    "                   random_state=None, solver='liblinear', tol=0.0001, verbose=0,\n",
    "                   warm_start=False)\n",
    "classifier\n",
    "\n",
    "#fit the training samples in the classifier\n",
    "classifier.fit(X_train, y_train)\n",
    "print(f\"Training Data Score: {classifier.score(X_train, y_train)}\")\n",
    "print(f\"Testing Data Score: {classifier.score(X_test, y_test)}\")"
   ]
  },
  {
   "cell_type": "markdown",
   "metadata": {},
   "source": [
    "# Assessment "
   ]
  },
  {
   "cell_type": "code",
   "execution_count": 38,
   "metadata": {},
   "outputs": [
    {
     "name": "stdout",
     "output_type": "stream",
     "text": [
      "2448 292\n",
      "--------------\n",
      "205 292\n",
      "--------------\n",
      "0.8415720405249201\n"
     ]
    }
   ],
   "source": [
    "#Compare with test data\n",
    "predictions = classifier.predict(X_test)\n",
    "\n",
    "print(sum(predictions), sum(y_test))\n",
    "\n",
    "total = 0\n",
    "default_num = 0\n",
    "\n",
    "for i in range(len(predictions)):\n",
    "    if(predictions[i] == y_test.array[i]):\n",
    "        total +=1\n",
    "        if(predictions[i]==1):\n",
    "            default_num+=1\n",
    "print(\"-------\" * 2)            \n",
    "print(default_num, sum(y_test))\n",
    "print(\"-------\" * 2)\n",
    "print(total/len(predictions))"
   ]
  },
  {
   "cell_type": "markdown",
   "metadata": {},
   "source": [
    "# Grid Search"
   ]
  },
  {
   "cell_type": "code",
   "execution_count": 39,
   "metadata": {},
   "outputs": [],
   "source": [
    "#Import Grid Search\n",
    "from sklearn.model_selection import GridSearchCV\n",
    "\n",
    "#Define param_grid\n",
    "param_grid = [    \n",
    "    {'penalty' : ['l1', 'l2', 'elasticnet', 'none'],\n",
    "    'C' : np.logspace(-4, 4, 20),\n",
    "    'solver' : ['lbfgs','newton-cg','liblinear','sag','saga'],\n",
    "    'max_iter' : [100, 1000,2500, 5000]\n",
    "    }\n",
    "]\n",
    "\n",
    "#define clf\n",
    "clf = GridSearchCV(classifier, param_grid = param_grid, cv = 3, verbose=True, n_jobs=-1)\n",
    "\n"
   ]
  },
  {
   "cell_type": "code",
   "execution_count": 14,
   "metadata": {},
   "outputs": [
    {
     "name": "stdout",
     "output_type": "stream",
     "text": [
      "Fitting 3 folds for each of 1600 candidates, totalling 4800 fits\n"
     ]
    },
    {
     "name": "stderr",
     "output_type": "stream",
     "text": [
      "[Parallel(n_jobs=-1)]: Using backend LokyBackend with 6 concurrent workers.\n",
      "[Parallel(n_jobs=-1)]: Done  38 tasks      | elapsed:   11.5s\n",
      "[Parallel(n_jobs=-1)]: Done 188 tasks      | elapsed:  5.1min\n",
      "[Parallel(n_jobs=-1)]: Done 438 tasks      | elapsed: 18.6min\n",
      "[Parallel(n_jobs=-1)]: Done 788 tasks      | elapsed: 37.1min\n",
      "[Parallel(n_jobs=-1)]: Done 1238 tasks      | elapsed: 62.3min\n",
      "[Parallel(n_jobs=-1)]: Done 1788 tasks      | elapsed: 92.0min\n",
      "[Parallel(n_jobs=-1)]: Done 2438 tasks      | elapsed: 141.1min\n",
      "[Parallel(n_jobs=-1)]: Done 3188 tasks      | elapsed: 181.9min\n",
      "[Parallel(n_jobs=-1)]: Done 4038 tasks      | elapsed: 229.7min\n",
      "[Parallel(n_jobs=-1)]: Done 4800 out of 4800 | elapsed: 278.2min finished\n"
     ]
    }
   ],
   "source": [
    "best_clf = clf.fit(X_train, y_train)"
   ]
  },
  {
   "cell_type": "code",
   "execution_count": 20,
   "metadata": {},
   "outputs": [
    {
     "data": {
      "text/plain": [
       "LogisticRegression(C=0.004832930238571752, class_weight=None, dual=False,\n",
       "                   fit_intercept=True, intercept_scaling=1, l1_ratio=None,\n",
       "                   max_iter=5000, multi_class='auto', n_jobs=None, penalty='l1',\n",
       "                   random_state=None, solver='liblinear', tol=0.0001, verbose=0,\n",
       "                   warm_start=False)"
      ]
     },
     "execution_count": 20,
     "metadata": {},
     "output_type": "execute_result"
    }
   ],
   "source": [
    "best_clf.best_estimator_"
   ]
  },
  {
   "cell_type": "code",
   "execution_count": null,
   "metadata": {},
   "outputs": [],
   "source": []
  }
 ],
 "metadata": {
  "kernelspec": {
   "display_name": "Python 3",
   "language": "python",
   "name": "python3"
  },
  "language_info": {
   "codemirror_mode": {
    "name": "ipython",
    "version": 3
   },
   "file_extension": ".py",
   "mimetype": "text/x-python",
   "name": "python",
   "nbconvert_exporter": "python",
   "pygments_lexer": "ipython3",
   "version": "3.7.6"
  }
 },
 "nbformat": 4,
 "nbformat_minor": 4
}
