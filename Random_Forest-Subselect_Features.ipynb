{
 "cells": [
  {
   "cell_type": "code",
   "execution_count": 1,
   "metadata": {},
   "outputs": [
    {
     "name": "stdout",
     "output_type": "stream",
     "text": [
      "Requirement already up-to-date: sklearn in c:\\users\\patri\\anaconda3\\lib\\site-packages (0.0)\n",
      "Requirement already satisfied, skipping upgrade: scikit-learn in c:\\users\\patri\\anaconda3\\lib\\site-packages (from sklearn) (0.22.1)\n",
      "Requirement already satisfied, skipping upgrade: numpy>=1.11.0 in c:\\users\\patri\\anaconda3\\lib\\site-packages (from scikit-learn->sklearn) (1.18.1)\n",
      "Requirement already satisfied, skipping upgrade: scipy>=0.17.0 in c:\\users\\patri\\anaconda3\\lib\\site-packages (from scikit-learn->sklearn) (1.4.1)\n",
      "Requirement already satisfied, skipping upgrade: joblib>=0.11 in c:\\users\\patri\\anaconda3\\lib\\site-packages (from scikit-learn->sklearn) (0.14.1)\n"
     ]
    }
   ],
   "source": [
    "# Update sklearn to prevent version mismatches\n",
    "!pip install sklearn --upgrade"
   ]
  },
  {
   "cell_type": "code",
   "execution_count": 2,
   "metadata": {},
   "outputs": [
    {
     "name": "stdout",
     "output_type": "stream",
     "text": [
      "Requirement already satisfied: joblib in c:\\users\\patri\\anaconda3\\lib\\site-packages (0.14.1)\n"
     ]
    }
   ],
   "source": [
    "# install joblib. This will be used to save your model. \n",
    "# Restart your kernel after installing \n",
    "!pip install joblib"
   ]
  },
  {
   "cell_type": "code",
   "execution_count": 3,
   "metadata": {},
   "outputs": [],
   "source": [
    "import pandas as pd"
   ]
  },
  {
   "cell_type": "markdown",
   "metadata": {},
   "source": [
    "# Read the CSV and Perform Basic Data Cleaning"
   ]
  },
  {
   "cell_type": "code",
   "execution_count": 5,
   "metadata": {},
   "outputs": [
    {
     "data": {
      "text/html": [
       "<div>\n",
       "<style scoped>\n",
       "    .dataframe tbody tr th:only-of-type {\n",
       "        vertical-align: middle;\n",
       "    }\n",
       "\n",
       "    .dataframe tbody tr th {\n",
       "        vertical-align: top;\n",
       "    }\n",
       "\n",
       "    .dataframe thead th {\n",
       "        text-align: right;\n",
       "    }\n",
       "</style>\n",
       "<table border=\"1\" class=\"dataframe\">\n",
       "  <thead>\n",
       "    <tr style=\"text-align: right;\">\n",
       "      <th></th>\n",
       "      <th>Customer ID</th>\n",
       "      <th>If a customer has bounced in first EMI (1 : Bounced, 0 : Not bounced)</th>\n",
       "      <th>Number of times bounced in recent 12 months</th>\n",
       "      <th>Maximum MOB (Month of business with TVS Credit)</th>\n",
       "      <th>Number of times bounced while repaying the loan</th>\n",
       "      <th>EMI</th>\n",
       "      <th>Loan Amount</th>\n",
       "      <th>Tenure</th>\n",
       "      <th>Dealer codes from where customer has purchased the Two wheeler</th>\n",
       "      <th>No of advance EMI paid</th>\n",
       "      <th>...</th>\n",
       "      <th>Geographical Location 3</th>\n",
       "      <th>Geographical Location 4</th>\n",
       "      <th>Housewife</th>\n",
       "      <th>Self-Employed</th>\n",
       "      <th>Salaried</th>\n",
       "      <th>Pensioner</th>\n",
       "      <th>Student</th>\n",
       "      <th>Residence Owned By Office</th>\n",
       "      <th>Residence Owned</th>\n",
       "      <th>Residence Rented</th>\n",
       "    </tr>\n",
       "  </thead>\n",
       "  <tbody>\n",
       "    <tr>\n",
       "      <th>0</th>\n",
       "      <td>1</td>\n",
       "      <td>0</td>\n",
       "      <td>0</td>\n",
       "      <td>24.0</td>\n",
       "      <td>0.0</td>\n",
       "      <td>2432.0</td>\n",
       "      <td>46500.0</td>\n",
       "      <td>24.0</td>\n",
       "      <td>1385.0</td>\n",
       "      <td>0.0</td>\n",
       "      <td>...</td>\n",
       "      <td>0</td>\n",
       "      <td>0</td>\n",
       "      <td>1</td>\n",
       "      <td>0</td>\n",
       "      <td>0</td>\n",
       "      <td>0</td>\n",
       "      <td>0</td>\n",
       "      <td>0</td>\n",
       "      <td>1</td>\n",
       "      <td>0</td>\n",
       "    </tr>\n",
       "    <tr>\n",
       "      <th>1</th>\n",
       "      <td>2</td>\n",
       "      <td>0</td>\n",
       "      <td>1</td>\n",
       "      <td>24.0</td>\n",
       "      <td>1.0</td>\n",
       "      <td>1495.0</td>\n",
       "      <td>28168.0</td>\n",
       "      <td>24.0</td>\n",
       "      <td>2496.0</td>\n",
       "      <td>0.0</td>\n",
       "      <td>...</td>\n",
       "      <td>0</td>\n",
       "      <td>0</td>\n",
       "      <td>0</td>\n",
       "      <td>1</td>\n",
       "      <td>0</td>\n",
       "      <td>0</td>\n",
       "      <td>0</td>\n",
       "      <td>0</td>\n",
       "      <td>0</td>\n",
       "      <td>1</td>\n",
       "    </tr>\n",
       "    <tr>\n",
       "      <th>2</th>\n",
       "      <td>3</td>\n",
       "      <td>0</td>\n",
       "      <td>0</td>\n",
       "      <td>26.0</td>\n",
       "      <td>0.0</td>\n",
       "      <td>1707.0</td>\n",
       "      <td>38900.0</td>\n",
       "      <td>30.0</td>\n",
       "      <td>1346.0</td>\n",
       "      <td>0.0</td>\n",
       "      <td>...</td>\n",
       "      <td>0</td>\n",
       "      <td>0</td>\n",
       "      <td>0</td>\n",
       "      <td>1</td>\n",
       "      <td>0</td>\n",
       "      <td>0</td>\n",
       "      <td>0</td>\n",
       "      <td>0</td>\n",
       "      <td>0</td>\n",
       "      <td>1</td>\n",
       "    </tr>\n",
       "    <tr>\n",
       "      <th>3</th>\n",
       "      <td>4</td>\n",
       "      <td>0</td>\n",
       "      <td>0</td>\n",
       "      <td>24.0</td>\n",
       "      <td>0.0</td>\n",
       "      <td>2128.0</td>\n",
       "      <td>42900.0</td>\n",
       "      <td>24.0</td>\n",
       "      <td>1375.0</td>\n",
       "      <td>2.0</td>\n",
       "      <td>...</td>\n",
       "      <td>0</td>\n",
       "      <td>0</td>\n",
       "      <td>0</td>\n",
       "      <td>0</td>\n",
       "      <td>1</td>\n",
       "      <td>0</td>\n",
       "      <td>0</td>\n",
       "      <td>0</td>\n",
       "      <td>0</td>\n",
       "      <td>1</td>\n",
       "    </tr>\n",
       "    <tr>\n",
       "      <th>4</th>\n",
       "      <td>5</td>\n",
       "      <td>0</td>\n",
       "      <td>0</td>\n",
       "      <td>27.0</td>\n",
       "      <td>0.0</td>\n",
       "      <td>1824.0</td>\n",
       "      <td>40900.0</td>\n",
       "      <td>30.0</td>\n",
       "      <td>4140.0</td>\n",
       "      <td>0.0</td>\n",
       "      <td>...</td>\n",
       "      <td>0</td>\n",
       "      <td>0</td>\n",
       "      <td>0</td>\n",
       "      <td>0</td>\n",
       "      <td>1</td>\n",
       "      <td>0</td>\n",
       "      <td>0</td>\n",
       "      <td>0</td>\n",
       "      <td>0</td>\n",
       "      <td>1</td>\n",
       "    </tr>\n",
       "  </tbody>\n",
       "</table>\n",
       "<p>5 rows × 42 columns</p>\n",
       "</div>"
      ],
      "text/plain": [
       "   Customer ID  \\\n",
       "0            1   \n",
       "1            2   \n",
       "2            3   \n",
       "3            4   \n",
       "4            5   \n",
       "\n",
       "   If a customer has bounced in first EMI (1 : Bounced, 0 : Not bounced)  \\\n",
       "0                                                  0                       \n",
       "1                                                  0                       \n",
       "2                                                  0                       \n",
       "3                                                  0                       \n",
       "4                                                  0                       \n",
       "\n",
       "   Number of times bounced in recent 12 months  \\\n",
       "0                                            0   \n",
       "1                                            1   \n",
       "2                                            0   \n",
       "3                                            0   \n",
       "4                                            0   \n",
       "\n",
       "   Maximum MOB (Month of business with TVS Credit)  \\\n",
       "0                                             24.0   \n",
       "1                                             24.0   \n",
       "2                                             26.0   \n",
       "3                                             24.0   \n",
       "4                                             27.0   \n",
       "\n",
       "   Number of times bounced while repaying the loan     EMI  Loan Amount  \\\n",
       "0                                              0.0  2432.0      46500.0   \n",
       "1                                              1.0  1495.0      28168.0   \n",
       "2                                              0.0  1707.0      38900.0   \n",
       "3                                              0.0  2128.0      42900.0   \n",
       "4                                              0.0  1824.0      40900.0   \n",
       "\n",
       "   Tenure  Dealer codes from where customer has purchased the Two wheeler  \\\n",
       "0    24.0                                             1385.0                \n",
       "1    24.0                                             2496.0                \n",
       "2    30.0                                             1346.0                \n",
       "3    24.0                                             1375.0                \n",
       "4    30.0                                             4140.0                \n",
       "\n",
       "   No of advance EMI paid  ...  Geographical Location 3  \\\n",
       "0                     0.0  ...                        0   \n",
       "1                     0.0  ...                        0   \n",
       "2                     0.0  ...                        0   \n",
       "3                     2.0  ...                        0   \n",
       "4                     0.0  ...                        0   \n",
       "\n",
       "   Geographical Location 4  Housewife  Self-Employed  Salaried  Pensioner  \\\n",
       "0                        0          1              0         0          0   \n",
       "1                        0          0              1         0          0   \n",
       "2                        0          0              1         0          0   \n",
       "3                        0          0              0         1          0   \n",
       "4                        0          0              0         1          0   \n",
       "\n",
       "   Student  Residence Owned By Office  Residence Owned  Residence Rented  \n",
       "0        0                          0                1                 0  \n",
       "1        0                          0                0                 1  \n",
       "2        0                          0                0                 1  \n",
       "3        0                          0                0                 1  \n",
       "4        0                          0                0                 1  \n",
       "\n",
       "[5 rows x 42 columns]"
      ]
     },
     "execution_count": 5,
     "metadata": {},
     "output_type": "execute_result"
    }
   ],
   "source": [
    "df = pd.read_csv(\"output.csv\")\n",
    "# Drop the null columns where all values are null\n",
    "df = df.dropna(axis='columns', how='all')\n",
    "# Drop the null rows\n",
    "df = df.dropna()\n",
    "df.head()"
   ]
  },
  {
   "cell_type": "code",
   "execution_count": 6,
   "metadata": {},
   "outputs": [
    {
     "data": {
      "text/plain": [
       "Index(['Customer ID',\n",
       "       'If a customer has bounced in first EMI (1 : Bounced, 0 : Not bounced)',\n",
       "       'Number of times bounced in recent 12 months',\n",
       "       'Maximum MOB (Month of business with TVS Credit)',\n",
       "       'Number of times bounced while repaying the loan', 'EMI', 'Loan Amount',\n",
       "       'Tenure',\n",
       "       'Dealer codes from where customer has purchased the Two wheeler',\n",
       "       'No of advance EMI paid', 'Rate of Interest',\n",
       "       'Gender(Male = 0, Female = 1)',\n",
       "       'Age at which customer has taken the loan', 'Number of loans',\n",
       "       ' Number of secured loans', ' Number of unsecured loans',\n",
       "       'Maximum amount sanctioned in the Live loans',\n",
       "       'Number of new loans in last 3 months',\n",
       "       'Total sanctioned amount in the secured Loans which are Live',\n",
       "       'Total sanctioned amount in the unsecured Loans which are Live',\n",
       "       'Maximum amount sanctioned for any Two wheeler loan',\n",
       "       'Time since last Personal loan taken (in months)',\n",
       "       'Time since first consumer durables loan taken (in months)',\n",
       "       'Number of times 30 days past due in last 6 months',\n",
       "       'Number of times 60 days past due in last 6 months',\n",
       "       'Number of times 90 days past due in last 3 months',\n",
       "       'Target variable ( 1: Defaulters / 0: Non-Defaulters)', 'Motorcycle',\n",
       "       'Moped', 'Scooter', 'Geographical Location 1',\n",
       "       'Geographical Location 2', 'Geographical Location 3',\n",
       "       'Geographical Location 4', 'Housewife', 'Self-Employed', 'Salaried',\n",
       "       'Pensioner', 'Student', 'Residence Owned By Office', 'Residence Owned',\n",
       "       'Residence Rented'],\n",
       "      dtype='object')"
      ]
     },
     "execution_count": 6,
     "metadata": {},
     "output_type": "execute_result"
    }
   ],
   "source": [
    "df.columns\n"
   ]
  },
  {
   "cell_type": "code",
   "execution_count": 7,
   "metadata": {},
   "outputs": [
    {
     "data": {
      "text/plain": [
       "0    71904\n",
       "1     1628\n",
       "Name: Target variable ( 1: Defaulters / 0: Non-Defaulters), dtype: int64"
      ]
     },
     "execution_count": 7,
     "metadata": {},
     "output_type": "execute_result"
    }
   ],
   "source": [
    "y = df['Target variable ( 1: Defaulters / 0: Non-Defaulters)']\n",
    "df['Target variable ( 1: Defaulters / 0: Non-Defaulters)'].value_counts()"
   ]
  },
  {
   "cell_type": "markdown",
   "metadata": {},
   "source": [
    "# Select your features (columns)"
   ]
  },
  {
   "cell_type": "code",
   "execution_count": 8,
   "metadata": {},
   "outputs": [],
   "source": [
    "# Set features. This will also be used as your x values.\n",
    "selected_features = df[['EMI', 'Loan Amount', 'Maximum amount sanctioned for any Two wheeler loan', \n",
    "                       'Age at which customer has taken the loan', 'Rate of Interest', \n",
    "                        'Number of times 30 days past due in last 6 months', 'Maximum MOB (Month of business with TVS Credit)',\n",
    "                       'Number of times 60 days past due in last 6 months', 'Number of loans', \n",
    "                        'Maximum amount sanctioned in the Live loans', 'Number of times 90 days past due in last 3 months', \n",
    "                       'Tenure', 'Number of times bounced while repaying the loan']]"
   ]
  },
  {
   "cell_type": "markdown",
   "metadata": {},
   "source": [
    "# Create a Train Test Split\n",
    "\n",
    "Use `Target variable ( 1: Defaulters / 0: Non-Defaulters)` for the y values"
   ]
  },
  {
   "cell_type": "code",
   "execution_count": 22,
   "metadata": {},
   "outputs": [],
   "source": [
    "from sklearn.model_selection import train_test_split\n",
    "\n",
    "X = selected_features\n",
    "\n",
    "X_train, X_test, y_train, y_test = train_test_split(X, y, test_size=0.2, train_size=0.8, random_state=30)"
   ]
  },
  {
   "cell_type": "code",
   "execution_count": 23,
   "metadata": {},
   "outputs": [
    {
     "data": {
      "text/html": [
       "<div>\n",
       "<style scoped>\n",
       "    .dataframe tbody tr th:only-of-type {\n",
       "        vertical-align: middle;\n",
       "    }\n",
       "\n",
       "    .dataframe tbody tr th {\n",
       "        vertical-align: top;\n",
       "    }\n",
       "\n",
       "    .dataframe thead th {\n",
       "        text-align: right;\n",
       "    }\n",
       "</style>\n",
       "<table border=\"1\" class=\"dataframe\">\n",
       "  <thead>\n",
       "    <tr style=\"text-align: right;\">\n",
       "      <th></th>\n",
       "      <th>EMI</th>\n",
       "      <th>Loan Amount</th>\n",
       "      <th>Maximum amount sanctioned for any Two wheeler loan</th>\n",
       "      <th>Age at which customer has taken the loan</th>\n",
       "      <th>Rate of Interest</th>\n",
       "      <th>Number of times 30 days past due in last 6 months</th>\n",
       "      <th>Maximum MOB (Month of business with TVS Credit)</th>\n",
       "      <th>Number of times 60 days past due in last 6 months</th>\n",
       "      <th>Number of loans</th>\n",
       "      <th>Maximum amount sanctioned in the Live loans</th>\n",
       "      <th>Number of times 90 days past due in last 3 months</th>\n",
       "      <th>Tenure</th>\n",
       "      <th>Number of times bounced while repaying the loan</th>\n",
       "    </tr>\n",
       "  </thead>\n",
       "  <tbody>\n",
       "    <tr>\n",
       "      <th>51260</th>\n",
       "      <td>1848.0</td>\n",
       "      <td>28000.0</td>\n",
       "      <td>28000.0</td>\n",
       "      <td>35.0</td>\n",
       "      <td>12.50</td>\n",
       "      <td>0</td>\n",
       "      <td>13.0</td>\n",
       "      <td>0</td>\n",
       "      <td>10</td>\n",
       "      <td>100000.0</td>\n",
       "      <td>0</td>\n",
       "      <td>18.0</td>\n",
       "      <td>0.0</td>\n",
       "    </tr>\n",
       "    <tr>\n",
       "      <th>46361</th>\n",
       "      <td>2976.0</td>\n",
       "      <td>59900.0</td>\n",
       "      <td>59900.0</td>\n",
       "      <td>48.0</td>\n",
       "      <td>9.60</td>\n",
       "      <td>0</td>\n",
       "      <td>19.0</td>\n",
       "      <td>0</td>\n",
       "      <td>5</td>\n",
       "      <td>0.0</td>\n",
       "      <td>0</td>\n",
       "      <td>24.0</td>\n",
       "      <td>1.0</td>\n",
       "    </tr>\n",
       "    <tr>\n",
       "      <th>15980</th>\n",
       "      <td>2008.0</td>\n",
       "      <td>37500.0</td>\n",
       "      <td>37500.0</td>\n",
       "      <td>56.0</td>\n",
       "      <td>14.25</td>\n",
       "      <td>3</td>\n",
       "      <td>22.0</td>\n",
       "      <td>0</td>\n",
       "      <td>13</td>\n",
       "      <td>1000000.0</td>\n",
       "      <td>0</td>\n",
       "      <td>24.0</td>\n",
       "      <td>0.0</td>\n",
       "    </tr>\n",
       "    <tr>\n",
       "      <th>37059</th>\n",
       "      <td>2438.0</td>\n",
       "      <td>44900.0</td>\n",
       "      <td>44900.0</td>\n",
       "      <td>43.0</td>\n",
       "      <td>7.99</td>\n",
       "      <td>4</td>\n",
       "      <td>17.0</td>\n",
       "      <td>3</td>\n",
       "      <td>4</td>\n",
       "      <td>50000.0</td>\n",
       "      <td>0</td>\n",
       "      <td>21.0</td>\n",
       "      <td>2.0</td>\n",
       "    </tr>\n",
       "    <tr>\n",
       "      <th>7809</th>\n",
       "      <td>2498.0</td>\n",
       "      <td>50900.0</td>\n",
       "      <td>50900.0</td>\n",
       "      <td>42.0</td>\n",
       "      <td>8.88</td>\n",
       "      <td>0</td>\n",
       "      <td>19.0</td>\n",
       "      <td>0</td>\n",
       "      <td>7</td>\n",
       "      <td>0.0</td>\n",
       "      <td>0</td>\n",
       "      <td>24.0</td>\n",
       "      <td>1.0</td>\n",
       "    </tr>\n",
       "  </tbody>\n",
       "</table>\n",
       "</div>"
      ],
      "text/plain": [
       "          EMI  Loan Amount  \\\n",
       "51260  1848.0      28000.0   \n",
       "46361  2976.0      59900.0   \n",
       "15980  2008.0      37500.0   \n",
       "37059  2438.0      44900.0   \n",
       "7809   2498.0      50900.0   \n",
       "\n",
       "       Maximum amount sanctioned for any Two wheeler loan  \\\n",
       "51260                                            28000.0    \n",
       "46361                                            59900.0    \n",
       "15980                                            37500.0    \n",
       "37059                                            44900.0    \n",
       "7809                                             50900.0    \n",
       "\n",
       "       Age at which customer has taken the loan  Rate of Interest  \\\n",
       "51260                                      35.0             12.50   \n",
       "46361                                      48.0              9.60   \n",
       "15980                                      56.0             14.25   \n",
       "37059                                      43.0              7.99   \n",
       "7809                                       42.0              8.88   \n",
       "\n",
       "       Number of times 30 days past due in last 6 months  \\\n",
       "51260                                                  0   \n",
       "46361                                                  0   \n",
       "15980                                                  3   \n",
       "37059                                                  4   \n",
       "7809                                                   0   \n",
       "\n",
       "       Maximum MOB (Month of business with TVS Credit)  \\\n",
       "51260                                             13.0   \n",
       "46361                                             19.0   \n",
       "15980                                             22.0   \n",
       "37059                                             17.0   \n",
       "7809                                              19.0   \n",
       "\n",
       "       Number of times 60 days past due in last 6 months  Number of loans  \\\n",
       "51260                                                  0               10   \n",
       "46361                                                  0                5   \n",
       "15980                                                  0               13   \n",
       "37059                                                  3                4   \n",
       "7809                                                   0                7   \n",
       "\n",
       "       Maximum amount sanctioned in the Live loans  \\\n",
       "51260                                     100000.0   \n",
       "46361                                          0.0   \n",
       "15980                                    1000000.0   \n",
       "37059                                      50000.0   \n",
       "7809                                           0.0   \n",
       "\n",
       "       Number of times 90 days past due in last 3 months  Tenure  \\\n",
       "51260                                                  0    18.0   \n",
       "46361                                                  0    24.0   \n",
       "15980                                                  0    24.0   \n",
       "37059                                                  0    21.0   \n",
       "7809                                                   0    24.0   \n",
       "\n",
       "       Number of times bounced while repaying the loan  \n",
       "51260                                              0.0  \n",
       "46361                                              1.0  \n",
       "15980                                              0.0  \n",
       "37059                                              2.0  \n",
       "7809                                               1.0  "
      ]
     },
     "execution_count": 23,
     "metadata": {},
     "output_type": "execute_result"
    }
   ],
   "source": [
    "X_train.head()"
   ]
  },
  {
   "cell_type": "markdown",
   "metadata": {},
   "source": [
    "# Pre-processing\n",
    "\n",
    "Scale the data using the MinMaxScaler and perform some feature selection"
   ]
  },
  {
   "cell_type": "code",
   "execution_count": 24,
   "metadata": {},
   "outputs": [],
   "source": [
    "# Scale your data\n",
    "\n",
    "#setup MinMaxScaler\n",
    "from sklearn.preprocessing import MinMaxScaler\n",
    "\n",
    "#set initial sizing of minmaxscaler using training data\n",
    "X_scaler = MinMaxScaler().fit(X_train)\n",
    "\n",
    "#y is just 1 or zero, so no need to scale it!\n",
    "# y_scaler = MinMaxScaler().fit(y_train)"
   ]
  },
  {
   "cell_type": "code",
   "execution_count": 25,
   "metadata": {},
   "outputs": [],
   "source": [
    "#use MinMaxScaler to transform the data in the training and test data sets\n",
    "#so that it is not weighted improperly\n",
    "\n",
    "X_train_scaled = X_scaler.transform(X_train)\n",
    "X_test_scaled = X_scaler.transform(X_test)\n",
    "# y_train_scaled = y_scaler.transform(y_train)\n",
    "# y_test_scaled = y_scaler.transform(y_test)"
   ]
  },
  {
   "cell_type": "markdown",
   "metadata": {},
   "source": [
    "# Train the Model\n",
    "\n"
   ]
  },
  {
   "cell_type": "code",
   "execution_count": 13,
   "metadata": {},
   "outputs": [
    {
     "data": {
      "text/plain": [
       "RandomForestClassifier(bootstrap=True, ccp_alpha=0.0, class_weight=None,\n",
       "                       criterion='gini', max_depth=None, max_features='auto',\n",
       "                       max_leaf_nodes=None, max_samples=None,\n",
       "                       min_impurity_decrease=0.0, min_impurity_split=None,\n",
       "                       min_samples_leaf=1, min_samples_split=2,\n",
       "                       min_weight_fraction_leaf=0.0, n_estimators=200,\n",
       "                       n_jobs=None, oob_score=False, random_state=None,\n",
       "                       verbose=0, warm_start=False)"
      ]
     },
     "execution_count": 13,
     "metadata": {},
     "output_type": "execute_result"
    }
   ],
   "source": [
    "#uses a standard random forest for this notebook\n",
    "from sklearn.ensemble import RandomForestClassifier\n",
    "\n",
    "classifier = RandomForestClassifier(n_estimators=200)\n",
    "classifier"
   ]
  },
  {
   "cell_type": "code",
   "execution_count": 14,
   "metadata": {},
   "outputs": [
    {
     "data": {
      "text/plain": [
       "RandomForestClassifier(bootstrap=True, ccp_alpha=0.0, class_weight=None,\n",
       "                       criterion='gini', max_depth=None, max_features='auto',\n",
       "                       max_leaf_nodes=None, max_samples=None,\n",
       "                       min_impurity_decrease=0.0, min_impurity_split=None,\n",
       "                       min_samples_leaf=1, min_samples_split=2,\n",
       "                       min_weight_fraction_leaf=0.0, n_estimators=200,\n",
       "                       n_jobs=None, oob_score=False, random_state=None,\n",
       "                       verbose=0, warm_start=False)"
      ]
     },
     "execution_count": 14,
     "metadata": {},
     "output_type": "execute_result"
    }
   ],
   "source": [
    "#create the model using the training data!\n",
    "classifier.fit(X_train_scaled, y_train)"
   ]
  },
  {
   "cell_type": "code",
   "execution_count": 26,
   "metadata": {},
   "outputs": [
    {
     "name": "stdout",
     "output_type": "stream",
     "text": [
      "Training Data Score: 0.9818274543136422\n",
      "Testing Data Score: 0.9795335554497858\n"
     ]
    }
   ],
   "source": [
    "print(f\"Training Data Score: {classifier.score(X_train_scaled, y_train)}\")\n",
    "print(f\"Testing Data Score: {classifier.score(X_test_scaled, y_test)}\")"
   ]
  },
  {
   "cell_type": "markdown",
   "metadata": {},
   "source": [
    "# Hyperparameter Tuning\n",
    "\n",
    "Use `GridSearchCV` to tune the model's parameters"
   ]
  },
  {
   "cell_type": "code",
   "execution_count": 16,
   "metadata": {},
   "outputs": [],
   "source": [
    "# Create the GridSearchCV model\n",
    "from sklearn.model_selection import GridSearchCV\n",
    "\n",
    "param_grid = {'ccp_alpha': [0, 0.5, 1],\n",
    "             'n_estimators': [100, 200, 300, 400]}\n",
    "\n",
    "grid = GridSearchCV(classifier, param_grid)"
   ]
  },
  {
   "cell_type": "code",
   "execution_count": 17,
   "metadata": {},
   "outputs": [
    {
     "data": {
      "text/plain": [
       "GridSearchCV(cv=None, error_score=nan,\n",
       "             estimator=RandomForestClassifier(bootstrap=True, ccp_alpha=0.0,\n",
       "                                              class_weight=None,\n",
       "                                              criterion='gini', max_depth=None,\n",
       "                                              max_features='auto',\n",
       "                                              max_leaf_nodes=None,\n",
       "                                              max_samples=None,\n",
       "                                              min_impurity_decrease=0.0,\n",
       "                                              min_impurity_split=None,\n",
       "                                              min_samples_leaf=1,\n",
       "                                              min_samples_split=2,\n",
       "                                              min_weight_fraction_leaf=0.0,\n",
       "                                              n_estimators=200, n_jobs=None,\n",
       "                                              oob_score=False,\n",
       "                                              random_state=None, verbose=0,\n",
       "                                              warm_start=False),\n",
       "             iid='deprecated', n_jobs=None,\n",
       "             param_grid={'ccp_alpha': [0, 0.5, 1],\n",
       "                         'n_estimators': [100, 200, 300, 400]},\n",
       "             pre_dispatch='2*n_jobs', refit=True, return_train_score=False,\n",
       "             scoring=None, verbose=0)"
      ]
     },
     "execution_count": 17,
     "metadata": {},
     "output_type": "execute_result"
    }
   ],
   "source": [
    "# Train the model with GridSearch\n",
    "grid.fit(X_train_scaled, y_train)"
   ]
  },
  {
   "cell_type": "code",
   "execution_count": 18,
   "metadata": {},
   "outputs": [
    {
     "name": "stdout",
     "output_type": "stream",
     "text": [
      "{'ccp_alpha': 0.5, 'n_estimators': 100}\n",
      "0.9777305567360817\n"
     ]
    }
   ],
   "source": [
    "print(grid.best_params_)\n",
    "print(grid.best_score_)"
   ]
  },
  {
   "cell_type": "code",
   "execution_count": 27,
   "metadata": {},
   "outputs": [
    {
     "name": "stdout",
     "output_type": "stream",
     "text": [
      "0 352\n",
      "0.9760658189977561\n"
     ]
    }
   ],
   "source": [
    "#compare with the test data!\n",
    "predictions = grid.predict(X_test_scaled)\n",
    "print(sum(predictions), sum(y_test))\n",
    "\n",
    "total = 0\n",
    "\n",
    "for i in range(len(predictions)):\n",
    "    if(predictions[i] == y_test.array[i]):\n",
    "        total +=1 \n",
    "        \n",
    "print(total/len(predictions))"
   ]
  },
  {
   "cell_type": "code",
   "execution_count": 29,
   "metadata": {},
   "outputs": [
    {
     "name": "stdout",
     "output_type": "stream",
     "text": [
      "              precision    recall  f1-score   support\n",
      "\n",
      " Non-Default       0.98      1.00      0.99     14355\n",
      "     Default       0.00      0.00      0.00       352\n",
      "\n",
      "    accuracy                           0.98     14707\n",
      "   macro avg       0.49      0.50      0.49     14707\n",
      "weighted avg       0.95      0.98      0.96     14707\n",
      "\n"
     ]
    }
   ],
   "source": [
    "#check classification report for how the tuned model did!\n",
    "from sklearn.metrics import classification_report\n",
    "\n",
    "#has issues finding the default cases - did not find any correctly!\n",
    "print(classification_report(y_test, predictions,\n",
    "                            target_names=[\"Non-Default\", \"Default\"]))"
   ]
  },
  {
   "cell_type": "code",
   "execution_count": 21,
   "metadata": {},
   "outputs": [
    {
     "data": {
      "text/plain": [
       "[(0.13167406917938124, 'EMI'),\n",
       " (0.11142740490958132, 'Maximum amount sanctioned for any Two wheeler loan'),\n",
       " (0.10919322965961716, 'Loan Amount'),\n",
       " (0.10399106626321333, 'Rate of Interest'),\n",
       " (0.1017265490827154, 'Age at which customer has taken the loan'),\n",
       " (0.07784653778342704, 'Maximum MOB (Month of business with TVS Credit)'),\n",
       " (0.07228574182123731, 'Number of loans'),\n",
       " (0.06893077714570732, 'Number of times 30 days past due in last 6 months'),\n",
       " (0.0673913018688651, 'Maximum amount sanctioned in the Live loans'),\n",
       " (0.051863611377820085, 'Number of times 60 days past due in last 6 months'),\n",
       " (0.039826867150222815, 'Number of times bounced while repaying the loan'),\n",
       " (0.03386960084719218, 'Tenure'),\n",
       " (0.029973242911019906, 'Number of times 90 days past due in last 3 months')]"
      ]
     },
     "execution_count": 21,
     "metadata": {},
     "output_type": "execute_result"
    }
   ],
   "source": [
    "importances = classifier.feature_importances_\n",
    "sorted(zip(importances, selected_features.columns), reverse=True)"
   ]
  },
  {
   "cell_type": "markdown",
   "metadata": {},
   "source": [
    "# Save the Model"
   ]
  },
  {
   "cell_type": "code",
   "execution_count": 30,
   "metadata": {},
   "outputs": [
    {
     "data": {
      "text/plain": [
       "['random_forest_model.sav']"
      ]
     },
     "execution_count": 30,
     "metadata": {},
     "output_type": "execute_result"
    }
   ],
   "source": [
    "# save your model by updating the filename to match the model\n",
    "\n",
    "import joblib\n",
    "filename = 'random_forest_model.sav'\n",
    "joblib.dump(grid, filename)"
   ]
  },
  {
   "cell_type": "code",
   "execution_count": null,
   "metadata": {},
   "outputs": [],
   "source": []
  }
 ],
 "metadata": {
  "kernel_info": {
   "name": "dev"
  },
  "kernelspec": {
   "display_name": "Python 3",
   "language": "python",
   "name": "python3"
  },
  "language_info": {
   "codemirror_mode": {
    "name": "ipython",
    "version": 3
   },
   "file_extension": ".py",
   "mimetype": "text/x-python",
   "name": "python",
   "nbconvert_exporter": "python",
   "pygments_lexer": "ipython3",
   "version": "3.7.6"
  },
  "nteract": {
   "version": "0.12.3"
  }
 },
 "nbformat": 4,
 "nbformat_minor": 2
}
