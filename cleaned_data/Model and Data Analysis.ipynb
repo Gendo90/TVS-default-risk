{
 "cells": [
  {
   "cell_type": "code",
   "execution_count": 1,
   "metadata": {},
   "outputs": [],
   "source": [
    "import joblib\n",
    "import pandas as pd"
   ]
  },
  {
   "cell_type": "code",
   "execution_count": 2,
   "metadata": {},
   "outputs": [],
   "source": [
    "df = pd.read_csv(\"output.csv\")\n",
    "y = df['Target variable ( 1: Defaulters / 0: Non-Defaulters)']\n",
    "X = df[['EMI', 'Loan Amount', 'Maximum amount sanctioned for any Two wheeler loan', \n",
    "                       'Age at which customer has taken the loan', 'Rate of Interest', \n",
    "                        'Number of times 30 days past due in last 6 months', 'Maximum MOB (Month of business with TVS Credit)',\n",
    "                       'Number of times 60 days past due in last 6 months', 'Number of loans', \n",
    "                        'Maximum amount sanctioned in the Live loans', 'Number of times 90 days past due in last 3 months', \n",
    "                       'Tenure', 'Number of times bounced while repaying the loan']]"
   ]
  },
  {
   "cell_type": "code",
   "execution_count": 3,
   "metadata": {},
   "outputs": [
    {
     "name": "stderr",
     "output_type": "stream",
     "text": [
      "D:\\Users\\9csic\\anaconda3\\lib\\site-packages\\sklearn\\base.py:318: UserWarning: Trying to unpickle estimator GridSearchCV from version 0.23.2 when using version 0.22.1. This might lead to breaking code or invalid results. Use at your own risk.\n",
      "  UserWarning)\n"
     ]
    }
   ],
   "source": [
    "filename = 'XGBoost_custom_scorer_current.sav'\n",
    "model = joblib.load(filename)"
   ]
  },
  {
   "cell_type": "code",
   "execution_count": 4,
   "metadata": {},
   "outputs": [],
   "source": [
    "from sklearn.preprocessing import MinMaxScaler\n",
    "\n",
    "#setup predictions from model\n",
    "X_scaler = MinMaxScaler().fit(X.copy())\n",
    "\n",
    "X_overall_scaled = X_scaler.transform(X.copy())\n",
    "\n",
    "#compare with the test data!\n",
    "predictions = model.predict(X_overall_scaled)"
   ]
  },
  {
   "cell_type": "code",
   "execution_count": 5,
   "metadata": {},
   "outputs": [
    {
     "data": {
      "text/plain": [
       "4232"
      ]
     },
     "execution_count": 5,
     "metadata": {},
     "output_type": "execute_result"
    }
   ],
   "source": [
    "model.score(X_overall_scaled, y)"
   ]
  },
  {
   "cell_type": "code",
   "execution_count": 6,
   "metadata": {},
   "outputs": [
    {
     "data": {
      "image/png": "[encoded data removed]",
      "text/plain": [
       "<Figure size 432x288 with 2 Axes>"
      ]
     },
     "metadata": {
      "needs_background": "light"
     },
     "output_type": "display_data"
    }
   ],
   "source": [
    "from confusion_matrix_plot import plot_confusion_matrix\n",
    "from sklearn.metrics import confusion_matrix\n",
    "\n",
    "thresh = 0.08\n",
    "predictions [predictions > thresh] = 1\n",
    "predictions [predictions <= thresh] = 0\n",
    "cm = confusion_matrix(y, predictions)\n",
    "plot_confusion_matrix(cm, ['0', '1'], )"
   ]
  },
  {
   "cell_type": "markdown",
   "metadata": {},
   "source": [
    "# Equivalent Loans Generated (basis for comparing overall model scores)"
   ]
  },
  {
   "cell_type": "markdown",
   "metadata": {},
   "source": [
    "The following section describes a value that represents the approximate \"equivalent loans\" that would be given and not default if this model is used to prevent all personal loan offers to the identified potential defaulter group (assuming all offers would be accepted, so this is a maximum value that may not be reproduced in practice)\n",
    "This value represents a good point of comparison to the overall number of loans in the dataset of 73532\n",
    "As long as this value is positive, the model likely has some financial worth to the company, even if it is not necessarily optimal\n",
    "This number can be used as a metric to compare the results of different saved models after loading them into this notebook"
   ]
  },
  {
   "cell_type": "markdown",
   "metadata": {},
   "source": [
    "# XGBoost Model III Data"
   ]
  },
  {
   "cell_type": "code",
   "execution_count": 19,
   "metadata": {},
   "outputs": [],
   "source": [
    "# XGBoost_model_III Data\n",
    "num_loans1 = cm[1,1]*2.5 - cm[0,1]\n",
    "num_loans2 = cm[1,1]*5 - cm[0,1]"
   ]
  },
  {
   "cell_type": "code",
   "execution_count": 20,
   "metadata": {},
   "outputs": [
    {
     "name": "stdout",
     "output_type": "stream",
     "text": [
      "7670322.118456776\n",
      "34551147.63736996\n"
     ]
    }
   ],
   "source": [
    "def get_savings(loans):\n",
    "    #get the dollar amount of total savings\n",
    "    #8164.259838698005 is the profit in rupees per loan\n",
    "    #0.014 is the exchange rate for rupees to dollars\n",
    "    return loans*8164.259838698005\n",
    "approx_savings1 = get_savings(num_loans1)\n",
    "approx_savings2 = get_savings(num_loans2)\n",
    "print(approx_savings1)\n",
    "print(approx_savings2)"
   ]
  },
  {
   "cell_type": "code",
   "execution_count": 9,
   "metadata": {},
   "outputs": [
    {
     "data": {
      "text/plain": [
       "2353"
      ]
     },
     "execution_count": 9,
     "metadata": {},
     "output_type": "execute_result"
    }
   ],
   "source": [
    "cm[0,1]"
   ]
  },
  {
   "cell_type": "code",
   "execution_count": 21,
   "metadata": {},
   "outputs": [],
   "source": [
    "num_loansA = 645*2.5-3055\n",
    "num_loansB = 645*5-3055"
   ]
  },
  {
   "cell_type": "code",
   "execution_count": 23,
   "metadata": {},
   "outputs": [
    {
     "name": "stdout",
     "output_type": "stream",
     "text": [
      "-11776944.817321872\n",
      "1387924.172578661\n",
      "19430.938416101253\n"
     ]
    }
   ],
   "source": [
    "def get_savings2(loans):\n",
    "    #get the dollar amount of total savings\n",
    "    #8164.259838698005 is the profit in rupees per loan\n",
    "    #0.014 is the exchange rate for rupees to dollars\n",
    "    return loans*8164.259838698005\n",
    "approx_savingsA = get_savings2(num_loansA)\n",
    "approx_savingsB = get_savings2(num_loansB)\n",
    "print(approx_savingsA)\n",
    "print(approx_savingsB)\n",
    "print(approx_savingsB*.014)"
   ]
  },
  {
   "cell_type": "code",
   "execution_count": 10,
   "metadata": {},
   "outputs": [],
   "source": [
    "data_df = df[['EMI', 'Loan Amount', 'Maximum amount sanctioned for any Two wheeler loan', \n",
    "                       'Age at which customer has taken the loan', 'Rate of Interest', \n",
    "                        'Number of times 30 days past due in last 6 months', 'Maximum MOB (Month of business with TVS Credit)',\n",
    "                       'Number of times 60 days past due in last 6 months', 'Number of loans', \n",
    "                        'Maximum amount sanctioned in the Live loans', 'Number of times 90 days past due in last 3 months', \n",
    "                       'Tenure', 'Number of times bounced while repaying the loan','Target variable ( 1: Defaulters / 0: Non-Defaulters)']]"
   ]
  },
  {
   "cell_type": "code",
   "execution_count": 12,
   "metadata": {},
   "outputs": [
    {
     "data": {
      "text/html": [
       "<div>\n",
       "<style scoped>\n",
       "    .dataframe tbody tr th:only-of-type {\n",
       "        vertical-align: middle;\n",
       "    }\n",
       "\n",
       "    .dataframe tbody tr th {\n",
       "        vertical-align: top;\n",
       "    }\n",
       "\n",
       "    .dataframe thead th {\n",
       "        text-align: right;\n",
       "    }\n",
       "</style>\n",
       "<table border=\"1\" class=\"dataframe\">\n",
       "  <thead>\n",
       "    <tr style=\"text-align: right;\">\n",
       "      <th></th>\n",
       "      <th>EMI</th>\n",
       "      <th>Loan Amount</th>\n",
       "      <th>Maximum amount sanctioned for any Two wheeler loan</th>\n",
       "      <th>Age at which customer has taken the loan</th>\n",
       "      <th>Rate of Interest</th>\n",
       "      <th>Number of times 30 days past due in last 6 months</th>\n",
       "      <th>Maximum MOB (Month of business with TVS Credit)</th>\n",
       "      <th>Number of times 60 days past due in last 6 months</th>\n",
       "      <th>Number of loans</th>\n",
       "      <th>Maximum amount sanctioned in the Live loans</th>\n",
       "      <th>Number of times 90 days past due in last 3 months</th>\n",
       "      <th>Tenure</th>\n",
       "      <th>Number of times bounced while repaying the loan</th>\n",
       "    </tr>\n",
       "    <tr>\n",
       "      <th>Target variable ( 1: Defaulters / 0: Non-Defaulters)</th>\n",
       "      <th></th>\n",
       "      <th></th>\n",
       "      <th></th>\n",
       "      <th></th>\n",
       "      <th></th>\n",
       "      <th></th>\n",
       "      <th></th>\n",
       "      <th></th>\n",
       "      <th></th>\n",
       "      <th></th>\n",
       "      <th></th>\n",
       "      <th></th>\n",
       "      <th></th>\n",
       "    </tr>\n",
       "  </thead>\n",
       "  <tbody>\n",
       "    <tr>\n",
       "      <th>0</th>\n",
       "      <td>2339.41</td>\n",
       "      <td>40182.51</td>\n",
       "      <td>41362.12</td>\n",
       "      <td>36.89</td>\n",
       "      <td>11.39</td>\n",
       "      <td>1.15</td>\n",
       "      <td>17.45</td>\n",
       "      <td>0.87</td>\n",
       "      <td>4.19</td>\n",
       "      <td>96173.61</td>\n",
       "      <td>0.37</td>\n",
       "      <td>21.41</td>\n",
       "      <td>0.69</td>\n",
       "    </tr>\n",
       "    <tr>\n",
       "      <th>1</th>\n",
       "      <td>2342.72</td>\n",
       "      <td>41359.86</td>\n",
       "      <td>43003.46</td>\n",
       "      <td>34.15</td>\n",
       "      <td>11.66</td>\n",
       "      <td>5.41</td>\n",
       "      <td>18.02</td>\n",
       "      <td>4.28</td>\n",
       "      <td>3.98</td>\n",
       "      <td>107196.51</td>\n",
       "      <td>1.76</td>\n",
       "      <td>22.11</td>\n",
       "      <td>1.15</td>\n",
       "    </tr>\n",
       "  </tbody>\n",
       "</table>\n",
       "</div>"
      ],
      "text/plain": [
       "                                                        EMI  Loan Amount  \\\n",
       "Target variable ( 1: Defaulters / 0: Non-Defaul...                         \n",
       "0                                                   2339.41     40182.51   \n",
       "1                                                   2342.72     41359.86   \n",
       "\n",
       "                                                    Maximum amount sanctioned for any Two wheeler loan  \\\n",
       "Target variable ( 1: Defaulters / 0: Non-Defaul...                                                       \n",
       "0                                                                                            41362.12    \n",
       "1                                                                                            43003.46    \n",
       "\n",
       "                                                    Age at which customer has taken the loan  \\\n",
       "Target variable ( 1: Defaulters / 0: Non-Defaul...                                             \n",
       "0                                                                                      36.89   \n",
       "1                                                                                      34.15   \n",
       "\n",
       "                                                    Rate of Interest  \\\n",
       "Target variable ( 1: Defaulters / 0: Non-Defaul...                     \n",
       "0                                                              11.39   \n",
       "1                                                              11.66   \n",
       "\n",
       "                                                    Number of times 30 days past due in last 6 months  \\\n",
       "Target variable ( 1: Defaulters / 0: Non-Defaul...                                                      \n",
       "0                                                                                                1.15   \n",
       "1                                                                                                5.41   \n",
       "\n",
       "                                                    Maximum MOB (Month of business with TVS Credit)  \\\n",
       "Target variable ( 1: Defaulters / 0: Non-Defaul...                                                    \n",
       "0                                                                                             17.45   \n",
       "1                                                                                             18.02   \n",
       "\n",
       "                                                    Number of times 60 days past due in last 6 months  \\\n",
       "Target variable ( 1: Defaulters / 0: Non-Defaul...                                                      \n",
       "0                                                                                                0.87   \n",
       "1                                                                                                4.28   \n",
       "\n",
       "                                                    Number of loans  \\\n",
       "Target variable ( 1: Defaulters / 0: Non-Defaul...                    \n",
       "0                                                              4.19   \n",
       "1                                                              3.98   \n",
       "\n",
       "                                                    Maximum amount sanctioned in the Live loans  \\\n",
       "Target variable ( 1: Defaulters / 0: Non-Defaul...                                                \n",
       "0                                                                                      96173.61   \n",
       "1                                                                                     107196.51   \n",
       "\n",
       "                                                    Number of times 90 days past due in last 3 months  \\\n",
       "Target variable ( 1: Defaulters / 0: Non-Defaul...                                                      \n",
       "0                                                                                                0.37   \n",
       "1                                                                                                1.76   \n",
       "\n",
       "                                                    Tenure  \\\n",
       "Target variable ( 1: Defaulters / 0: Non-Defaul...           \n",
       "0                                                    21.41   \n",
       "1                                                    22.11   \n",
       "\n",
       "                                                    Number of times bounced while repaying the loan  \n",
       "Target variable ( 1: Defaulters / 0: Non-Defaul...                                                   \n",
       "0                                                                                              0.69  \n",
       "1                                                                                              1.15  "
      ]
     },
     "execution_count": 12,
     "metadata": {},
     "output_type": "execute_result"
    }
   ],
   "source": [
    "grouped_df = data_df.groupby(['Target variable ( 1: Defaulters / 0: Non-Defaulters)'])\n",
    "grouped_df = grouped_df.mean()\n",
    "grouped_df.round(2)"
   ]
  },
  {
   "cell_type": "markdown",
   "metadata": {},
   "source": [
    "# 30 Day Past Due Data"
   ]
  },
  {
   "cell_type": "code",
   "execution_count": 13,
   "metadata": {},
   "outputs": [
    {
     "data": {
      "text/html": [
       "<div>\n",
       "<style scoped>\n",
       "    .dataframe tbody tr th:only-of-type {\n",
       "        vertical-align: middle;\n",
       "    }\n",
       "\n",
       "    .dataframe tbody tr th {\n",
       "        vertical-align: top;\n",
       "    }\n",
       "\n",
       "    .dataframe thead th {\n",
       "        text-align: right;\n",
       "    }\n",
       "</style>\n",
       "<table border=\"1\" class=\"dataframe\">\n",
       "  <thead>\n",
       "    <tr style=\"text-align: right;\">\n",
       "      <th></th>\n",
       "      <th>Percent Chance of Defaulting</th>\n",
       "    </tr>\n",
       "    <tr>\n",
       "      <th>30 day groups</th>\n",
       "      <th></th>\n",
       "    </tr>\n",
       "  </thead>\n",
       "  <tbody>\n",
       "    <tr>\n",
       "      <th>0-1 times 30 days past due in last 6 months</th>\n",
       "      <td>0.964512</td>\n",
       "    </tr>\n",
       "    <tr>\n",
       "      <th>2+ times 30 days past due in last 6 months</th>\n",
       "      <td>9.466963</td>\n",
       "    </tr>\n",
       "  </tbody>\n",
       "</table>\n",
       "</div>"
      ],
      "text/plain": [
       "                                             Percent Chance of Defaulting\n",
       "30 day groups                                                            \n",
       "0-1 times 30 days past due in last 6 months                      0.964512\n",
       "2+ times 30 days past due in last 6 months                       9.466963"
      ]
     },
     "execution_count": 13,
     "metadata": {},
     "output_type": "execute_result"
    }
   ],
   "source": [
    "# Number of times 30 days past due in last 3 months data\n",
    "# 2.21% default rate for all loans\n",
    "# 0.96% default rate if 0-1 times, 62727 samples\n",
    "# 9.46% default rate if 2+ times, 10807 samples\n",
    "data30_df = data_df\n",
    "labels_30 = ['0-1 times 30 days past due in last 6 months','2+ times 30 days past due in last 6 months']\n",
    "bins_30 = [-1,2,1000]\n",
    "\n",
    "data30_df['30 day groups'] = pd.cut(data30_df['Number of times 30 days past due in last 6 months'],bins=bins_30,labels=labels_30)\n",
    "\n",
    "data30_df = data30_df[['30 day groups','Target variable ( 1: Defaulters / 0: Non-Defaulters)']]\n",
    "data30_df = data30_df.rename(columns={\"Target variable ( 1: Defaulters / 0: Non-Defaulters)\":'Percent Chance of Defaulting'})\n",
    "data30_df.groupby(['30 day groups']).mean() * 100"
   ]
  },
  {
   "cell_type": "code",
   "execution_count": 14,
   "metadata": {},
   "outputs": [],
   "source": [
    "data_df = df[['EMI', 'Loan Amount', 'Maximum amount sanctioned for any Two wheeler loan', \n",
    "                       'Age at which customer has taken the loan', 'Rate of Interest', \n",
    "                        'Number of times 30 days past due in last 6 months', 'Maximum MOB (Month of business with TVS Credit)',\n",
    "                       'Number of times 60 days past due in last 6 months', 'Number of loans', \n",
    "                        'Maximum amount sanctioned in the Live loans', 'Number of times 90 days past due in last 3 months', \n",
    "                       'Tenure', 'Number of times bounced while repaying the loan','Target variable ( 1: Defaulters / 0: Non-Defaulters)']]"
   ]
  },
  {
   "cell_type": "markdown",
   "metadata": {},
   "source": [
    "# 60 Day Past Due Data"
   ]
  },
  {
   "cell_type": "code",
   "execution_count": 15,
   "metadata": {},
   "outputs": [
    {
     "name": "stderr",
     "output_type": "stream",
     "text": [
      "D:\\Users\\9csic\\anaconda3\\lib\\site-packages\\ipykernel_launcher.py:9: SettingWithCopyWarning: \n",
      "A value is trying to be set on a copy of a slice from a DataFrame.\n",
      "Try using .loc[row_indexer,col_indexer] = value instead\n",
      "\n",
      "See the caveats in the documentation: https://pandas.pydata.org/pandas-docs/stable/user_guide/indexing.html#returning-a-view-versus-a-copy\n",
      "  if __name__ == '__main__':\n"
     ]
    },
    {
     "data": {
      "text/html": [
       "<div>\n",
       "<style scoped>\n",
       "    .dataframe tbody tr th:only-of-type {\n",
       "        vertical-align: middle;\n",
       "    }\n",
       "\n",
       "    .dataframe tbody tr th {\n",
       "        vertical-align: top;\n",
       "    }\n",
       "\n",
       "    .dataframe thead th {\n",
       "        text-align: right;\n",
       "    }\n",
       "</style>\n",
       "<table border=\"1\" class=\"dataframe\">\n",
       "  <thead>\n",
       "    <tr style=\"text-align: right;\">\n",
       "      <th></th>\n",
       "      <th>Percent Chance of Defaulting</th>\n",
       "    </tr>\n",
       "    <tr>\n",
       "      <th>60 day groups</th>\n",
       "      <th></th>\n",
       "    </tr>\n",
       "  </thead>\n",
       "  <tbody>\n",
       "    <tr>\n",
       "      <th>0-1 times 60 days past due in last 6 months</th>\n",
       "      <td>1.109901</td>\n",
       "    </tr>\n",
       "    <tr>\n",
       "      <th>2+ times 60 days past due in last 6 months</th>\n",
       "      <td>9.074855</td>\n",
       "    </tr>\n",
       "  </tbody>\n",
       "</table>\n",
       "</div>"
      ],
      "text/plain": [
       "                                             Percent Chance of Defaulting\n",
       "60 day groups                                                            \n",
       "0-1 times 60 days past due in last 6 months                      1.109901\n",
       "2+ times 60 days past due in last 6 months                       9.074855"
      ]
     },
     "execution_count": 15,
     "metadata": {},
     "output_type": "execute_result"
    }
   ],
   "source": [
    "# Number of times 60 days past due in last 3 months data\n",
    "# 2.21% default rate for all loans\n",
    "# 1.1% default rate if 0-1 times, 63340 samples\n",
    "# 9.07% default rate if 2+ times, 10194 samples\n",
    "data60_df = data_df\n",
    "labels_60 = ['0-1 times 60 days past due in last 6 months','2+ times 60 days past due in last 6 months']\n",
    "bins_60 = [-1,1.1,1000]\n",
    "\n",
    "data60_df['60 day groups'] = pd.cut(data60_df['Number of times 60 days past due in last 6 months'],bins=bins_60,labels=labels_60)\n",
    "\n",
    "data60_df = data60_df[['60 day groups','Target variable ( 1: Defaulters / 0: Non-Defaulters)']]\n",
    "data60_df = data60_df.rename(columns={\"Target variable ( 1: Defaulters / 0: Non-Defaulters)\":'Percent Chance of Defaulting'})\n",
    "data60_df.groupby(['60 day groups']).mean() * 100"
   ]
  },
  {
   "cell_type": "code",
   "execution_count": 16,
   "metadata": {},
   "outputs": [],
   "source": [
    "data_df = df[['EMI', 'Loan Amount', 'Maximum amount sanctioned for any Two wheeler loan', \n",
    "                       'Age at which customer has taken the loan', 'Rate of Interest', \n",
    "                        'Number of times 30 days past due in last 6 months', 'Maximum MOB (Month of business with TVS Credit)',\n",
    "                       'Number of times 60 days past due in last 6 months', 'Number of loans', \n",
    "                        'Maximum amount sanctioned in the Live loans', 'Number of times 90 days past due in last 3 months', \n",
    "                       'Tenure', 'Number of times bounced while repaying the loan','Target variable ( 1: Defaulters / 0: Non-Defaulters)']]"
   ]
  },
  {
   "cell_type": "markdown",
   "metadata": {},
   "source": [
    "# 90 Day Past Due Data"
   ]
  },
  {
   "cell_type": "code",
   "execution_count": 17,
   "metadata": {},
   "outputs": [
    {
     "name": "stderr",
     "output_type": "stream",
     "text": [
      "D:\\Users\\9csic\\anaconda3\\lib\\site-packages\\ipykernel_launcher.py:9: SettingWithCopyWarning: \n",
      "A value is trying to be set on a copy of a slice from a DataFrame.\n",
      "Try using .loc[row_indexer,col_indexer] = value instead\n",
      "\n",
      "See the caveats in the documentation: https://pandas.pydata.org/pandas-docs/stable/user_guide/indexing.html#returning-a-view-versus-a-copy\n",
      "  if __name__ == '__main__':\n"
     ]
    },
    {
     "data": {
      "text/html": [
       "<div>\n",
       "<style scoped>\n",
       "    .dataframe tbody tr th:only-of-type {\n",
       "        vertical-align: middle;\n",
       "    }\n",
       "\n",
       "    .dataframe tbody tr th {\n",
       "        vertical-align: top;\n",
       "    }\n",
       "\n",
       "    .dataframe thead th {\n",
       "        text-align: right;\n",
       "    }\n",
       "</style>\n",
       "<table border=\"1\" class=\"dataframe\">\n",
       "  <thead>\n",
       "    <tr style=\"text-align: right;\">\n",
       "      <th></th>\n",
       "      <th>Percent Chance of Defaulting</th>\n",
       "    </tr>\n",
       "    <tr>\n",
       "      <th>90 day groups</th>\n",
       "      <th></th>\n",
       "    </tr>\n",
       "  </thead>\n",
       "  <tbody>\n",
       "    <tr>\n",
       "      <th>0-1 times 90 days past due in last 6 months</th>\n",
       "      <td>1.656719</td>\n",
       "    </tr>\n",
       "    <tr>\n",
       "      <th>3+ times 90 days past due in last 3 months</th>\n",
       "      <td>10.119785</td>\n",
       "    </tr>\n",
       "  </tbody>\n",
       "</table>\n",
       "</div>"
      ],
      "text/plain": [
       "                                             Percent Chance of Defaulting\n",
       "90 day groups                                                            \n",
       "0-1 times 90 days past due in last 6 months                      1.656719\n",
       "3+ times 90 days past due in last 3 months                      10.119785"
      ]
     },
     "execution_count": 17,
     "metadata": {},
     "output_type": "execute_result"
    }
   ],
   "source": [
    "# Number of times 90 days past due in last 3 months data\n",
    "# 2.21% default rate for all loans\n",
    "# 1.65% default rate if 0-2 times, 68691 samples\n",
    "# 10.12% default rate if 3+ times, 4843 samples\n",
    "data90_df = data_df\n",
    "labels_90 = ['0-1 times 90 days past due in last 6 months','3+ times 90 days past due in last 3 months']\n",
    "bins_90 = [-1,2.1,1000]\n",
    "\n",
    "data90_df['90 day groups'] = pd.cut(data90_df['Number of times 90 days past due in last 3 months'],bins=bins_90,labels=labels_90)\n",
    "\n",
    "data90_df = data90_df[['90 day groups','Target variable ( 1: Defaulters / 0: Non-Defaulters)']]\n",
    "data90_df = data90_df.rename(columns={\"Target variable ( 1: Defaulters / 0: Non-Defaulters)\":'Percent Chance of Defaulting'})\n",
    "data90_df.groupby(['90 day groups']).mean() * 100"
   ]
  }
 ],
 "metadata": {
  "kernelspec": {
   "display_name": "Python 3",
   "language": "python",
   "name": "python3"
  },
  "language_info": {
   "codemirror_mode": {
    "name": "ipython",
    "version": 3
   },
   "file_extension": ".py",
   "mimetype": "text/x-python",
   "name": "python",
   "nbconvert_exporter": "python",
   "pygments_lexer": "ipython3",
   "version": "3.7.6"
  }
 },
 "nbformat": 4,
 "nbformat_minor": 4
}
