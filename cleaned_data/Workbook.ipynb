{
 "cells": [
  {
   "cell_type": "code",
   "execution_count": 1,
   "metadata": {},
   "outputs": [],
   "source": [
    "import pandas as pd"
   ]
  },
  {
   "cell_type": "code",
   "execution_count": 8,
   "metadata": {},
   "outputs": [],
   "source": [
    "test_data = pd.read_csv(\"./raw_data/TVS.csv\", encoding = 'utf-8')"
   ]
  },
  {
   "cell_type": "code",
   "execution_count": 9,
   "metadata": {},
   "outputs": [],
   "source": [
    "# test_data"
   ]
  },
  {
   "cell_type": "code",
   "execution_count": 10,
   "metadata": {},
   "outputs": [
    {
     "ename": "KeyError",
     "evalue": "'Time since last Personal loan taken (in months)'",
     "output_type": "error",
     "traceback": [
      "\u001b[1;31m---------------------------------------------------------------------------\u001b[0m",
      "\u001b[1;31mKeyError\u001b[0m                                  Traceback (most recent call last)",
      "\u001b[1;32mC:\\ProgramData\\Anaconda3\\lib\\site-packages\\pandas\\core\\indexes\\base.py\u001b[0m in \u001b[0;36mget_loc\u001b[1;34m(self, key, method, tolerance)\u001b[0m\n\u001b[0;32m   2645\u001b[0m             \u001b[1;32mtry\u001b[0m\u001b[1;33m:\u001b[0m\u001b[1;33m\u001b[0m\u001b[1;33m\u001b[0m\u001b[0m\n\u001b[1;32m-> 2646\u001b[1;33m                 \u001b[1;32mreturn\u001b[0m \u001b[0mself\u001b[0m\u001b[1;33m.\u001b[0m\u001b[0m_engine\u001b[0m\u001b[1;33m.\u001b[0m\u001b[0mget_loc\u001b[0m\u001b[1;33m(\u001b[0m\u001b[0mkey\u001b[0m\u001b[1;33m)\u001b[0m\u001b[1;33m\u001b[0m\u001b[1;33m\u001b[0m\u001b[0m\n\u001b[0m\u001b[0;32m   2647\u001b[0m             \u001b[1;32mexcept\u001b[0m \u001b[0mKeyError\u001b[0m\u001b[1;33m:\u001b[0m\u001b[1;33m\u001b[0m\u001b[1;33m\u001b[0m\u001b[0m\n",
      "\u001b[1;32mpandas\\_libs\\index.pyx\u001b[0m in \u001b[0;36mpandas._libs.index.IndexEngine.get_loc\u001b[1;34m()\u001b[0m\n",
      "\u001b[1;32mpandas\\_libs\\index.pyx\u001b[0m in \u001b[0;36mpandas._libs.index.IndexEngine.get_loc\u001b[1;34m()\u001b[0m\n",
      "\u001b[1;32mpandas\\_libs\\hashtable_class_helper.pxi\u001b[0m in \u001b[0;36mpandas._libs.hashtable.PyObjectHashTable.get_item\u001b[1;34m()\u001b[0m\n",
      "\u001b[1;32mpandas\\_libs\\hashtable_class_helper.pxi\u001b[0m in \u001b[0;36mpandas._libs.hashtable.PyObjectHashTable.get_item\u001b[1;34m()\u001b[0m\n",
      "\u001b[1;31mKeyError\u001b[0m: 'Time since last Personal loan taken (in months)'",
      "\nDuring handling of the above exception, another exception occurred:\n",
      "\u001b[1;31mKeyError\u001b[0m                                  Traceback (most recent call last)",
      "\u001b[1;32m<ipython-input-10-48412e9dfbdb>\u001b[0m in \u001b[0;36m<module>\u001b[1;34m\u001b[0m\n\u001b[1;32m----> 1\u001b[1;33m \u001b[0mtest_data\u001b[0m\u001b[1;33m[\u001b[0m\u001b[1;34m'Time since last Personal loan taken (in months)'\u001b[0m\u001b[1;33m]\u001b[0m \u001b[1;33m=\u001b[0m \u001b[0mtest_data\u001b[0m\u001b[1;33m[\u001b[0m\u001b[1;34m'Time since last Personal loan taken (in months)'\u001b[0m\u001b[1;33m]\u001b[0m\u001b[1;33m.\u001b[0m\u001b[0mfillna\u001b[0m\u001b[1;33m(\u001b[0m\u001b[1;36m0\u001b[0m\u001b[1;33m)\u001b[0m\u001b[1;33m\u001b[0m\u001b[1;33m\u001b[0m\u001b[0m\n\u001b[0m\u001b[0;32m      2\u001b[0m \u001b[0mtest_data\u001b[0m\u001b[1;33m[\u001b[0m\u001b[1;34m'Time since first consumer durables loan taken (in months)'\u001b[0m\u001b[1;33m]\u001b[0m \u001b[1;33m=\u001b[0m \u001b[0mtest_data\u001b[0m\u001b[1;33m[\u001b[0m\u001b[1;34m'Time since first consumer durables loan taken (in months)'\u001b[0m\u001b[1;33m]\u001b[0m\u001b[1;33m.\u001b[0m\u001b[0mfillna\u001b[0m\u001b[1;33m(\u001b[0m\u001b[1;36m0\u001b[0m\u001b[1;33m)\u001b[0m\u001b[1;33m\u001b[0m\u001b[1;33m\u001b[0m\u001b[0m\n\u001b[0;32m      3\u001b[0m \u001b[0mtest_data\u001b[0m\u001b[1;33m[\u001b[0m\u001b[1;34m'Total sanctioned amount in the secured Loans which are Live'\u001b[0m\u001b[1;33m]\u001b[0m \u001b[1;33m=\u001b[0m \u001b[0mtest_data\u001b[0m\u001b[1;33m[\u001b[0m\u001b[1;34m'Total sanctioned amount in the secured Loans which are Live'\u001b[0m\u001b[1;33m]\u001b[0m\u001b[1;33m.\u001b[0m\u001b[0mfillna\u001b[0m\u001b[1;33m(\u001b[0m\u001b[1;36m0\u001b[0m\u001b[1;33m)\u001b[0m\u001b[1;33m\u001b[0m\u001b[1;33m\u001b[0m\u001b[0m\n\u001b[0;32m      4\u001b[0m \u001b[0mtest_data\u001b[0m\u001b[1;33m[\u001b[0m\u001b[1;34m'Total sanctioned amount in the unsecured Loans which are Live'\u001b[0m\u001b[1;33m]\u001b[0m \u001b[1;33m=\u001b[0m \u001b[0mtest_data\u001b[0m\u001b[1;33m[\u001b[0m\u001b[1;34m'Total sanctioned amount in the unsecured Loans which are Live'\u001b[0m\u001b[1;33m]\u001b[0m\u001b[1;33m.\u001b[0m\u001b[0mfillna\u001b[0m\u001b[1;33m(\u001b[0m\u001b[1;36m0\u001b[0m\u001b[1;33m)\u001b[0m\u001b[1;33m\u001b[0m\u001b[1;33m\u001b[0m\u001b[0m\n\u001b[0;32m      5\u001b[0m \u001b[0mtest_data\u001b[0m\u001b[1;33m[\u001b[0m\u001b[1;34m'Maximum amount sanctioned in the Live loans'\u001b[0m\u001b[1;33m]\u001b[0m \u001b[1;33m=\u001b[0m \u001b[0mtest_data\u001b[0m\u001b[1;33m[\u001b[0m\u001b[1;34m'Maximum amount sanctioned in the Live loans'\u001b[0m\u001b[1;33m]\u001b[0m\u001b[1;33m.\u001b[0m\u001b[0mfillna\u001b[0m\u001b[1;33m(\u001b[0m\u001b[1;36m0\u001b[0m\u001b[1;33m)\u001b[0m\u001b[1;33m\u001b[0m\u001b[1;33m\u001b[0m\u001b[0m\n",
      "\u001b[1;32mC:\\ProgramData\\Anaconda3\\lib\\site-packages\\pandas\\core\\frame.py\u001b[0m in \u001b[0;36m__getitem__\u001b[1;34m(self, key)\u001b[0m\n\u001b[0;32m   2798\u001b[0m             \u001b[1;32mif\u001b[0m \u001b[0mself\u001b[0m\u001b[1;33m.\u001b[0m\u001b[0mcolumns\u001b[0m\u001b[1;33m.\u001b[0m\u001b[0mnlevels\u001b[0m \u001b[1;33m>\u001b[0m \u001b[1;36m1\u001b[0m\u001b[1;33m:\u001b[0m\u001b[1;33m\u001b[0m\u001b[1;33m\u001b[0m\u001b[0m\n\u001b[0;32m   2799\u001b[0m                 \u001b[1;32mreturn\u001b[0m \u001b[0mself\u001b[0m\u001b[1;33m.\u001b[0m\u001b[0m_getitem_multilevel\u001b[0m\u001b[1;33m(\u001b[0m\u001b[0mkey\u001b[0m\u001b[1;33m)\u001b[0m\u001b[1;33m\u001b[0m\u001b[1;33m\u001b[0m\u001b[0m\n\u001b[1;32m-> 2800\u001b[1;33m             \u001b[0mindexer\u001b[0m \u001b[1;33m=\u001b[0m \u001b[0mself\u001b[0m\u001b[1;33m.\u001b[0m\u001b[0mcolumns\u001b[0m\u001b[1;33m.\u001b[0m\u001b[0mget_loc\u001b[0m\u001b[1;33m(\u001b[0m\u001b[0mkey\u001b[0m\u001b[1;33m)\u001b[0m\u001b[1;33m\u001b[0m\u001b[1;33m\u001b[0m\u001b[0m\n\u001b[0m\u001b[0;32m   2801\u001b[0m             \u001b[1;32mif\u001b[0m \u001b[0mis_integer\u001b[0m\u001b[1;33m(\u001b[0m\u001b[0mindexer\u001b[0m\u001b[1;33m)\u001b[0m\u001b[1;33m:\u001b[0m\u001b[1;33m\u001b[0m\u001b[1;33m\u001b[0m\u001b[0m\n\u001b[0;32m   2802\u001b[0m                 \u001b[0mindexer\u001b[0m \u001b[1;33m=\u001b[0m \u001b[1;33m[\u001b[0m\u001b[0mindexer\u001b[0m\u001b[1;33m]\u001b[0m\u001b[1;33m\u001b[0m\u001b[1;33m\u001b[0m\u001b[0m\n",
      "\u001b[1;32mC:\\ProgramData\\Anaconda3\\lib\\site-packages\\pandas\\core\\indexes\\base.py\u001b[0m in \u001b[0;36mget_loc\u001b[1;34m(self, key, method, tolerance)\u001b[0m\n\u001b[0;32m   2646\u001b[0m                 \u001b[1;32mreturn\u001b[0m \u001b[0mself\u001b[0m\u001b[1;33m.\u001b[0m\u001b[0m_engine\u001b[0m\u001b[1;33m.\u001b[0m\u001b[0mget_loc\u001b[0m\u001b[1;33m(\u001b[0m\u001b[0mkey\u001b[0m\u001b[1;33m)\u001b[0m\u001b[1;33m\u001b[0m\u001b[1;33m\u001b[0m\u001b[0m\n\u001b[0;32m   2647\u001b[0m             \u001b[1;32mexcept\u001b[0m \u001b[0mKeyError\u001b[0m\u001b[1;33m:\u001b[0m\u001b[1;33m\u001b[0m\u001b[1;33m\u001b[0m\u001b[0m\n\u001b[1;32m-> 2648\u001b[1;33m                 \u001b[1;32mreturn\u001b[0m \u001b[0mself\u001b[0m\u001b[1;33m.\u001b[0m\u001b[0m_engine\u001b[0m\u001b[1;33m.\u001b[0m\u001b[0mget_loc\u001b[0m\u001b[1;33m(\u001b[0m\u001b[0mself\u001b[0m\u001b[1;33m.\u001b[0m\u001b[0m_maybe_cast_indexer\u001b[0m\u001b[1;33m(\u001b[0m\u001b[0mkey\u001b[0m\u001b[1;33m)\u001b[0m\u001b[1;33m)\u001b[0m\u001b[1;33m\u001b[0m\u001b[1;33m\u001b[0m\u001b[0m\n\u001b[0m\u001b[0;32m   2649\u001b[0m         \u001b[0mindexer\u001b[0m \u001b[1;33m=\u001b[0m \u001b[0mself\u001b[0m\u001b[1;33m.\u001b[0m\u001b[0mget_indexer\u001b[0m\u001b[1;33m(\u001b[0m\u001b[1;33m[\u001b[0m\u001b[0mkey\u001b[0m\u001b[1;33m]\u001b[0m\u001b[1;33m,\u001b[0m \u001b[0mmethod\u001b[0m\u001b[1;33m=\u001b[0m\u001b[0mmethod\u001b[0m\u001b[1;33m,\u001b[0m \u001b[0mtolerance\u001b[0m\u001b[1;33m=\u001b[0m\u001b[0mtolerance\u001b[0m\u001b[1;33m)\u001b[0m\u001b[1;33m\u001b[0m\u001b[1;33m\u001b[0m\u001b[0m\n\u001b[0;32m   2650\u001b[0m         \u001b[1;32mif\u001b[0m \u001b[0mindexer\u001b[0m\u001b[1;33m.\u001b[0m\u001b[0mndim\u001b[0m \u001b[1;33m>\u001b[0m \u001b[1;36m1\u001b[0m \u001b[1;32mor\u001b[0m \u001b[0mindexer\u001b[0m\u001b[1;33m.\u001b[0m\u001b[0msize\u001b[0m \u001b[1;33m>\u001b[0m \u001b[1;36m1\u001b[0m\u001b[1;33m:\u001b[0m\u001b[1;33m\u001b[0m\u001b[1;33m\u001b[0m\u001b[0m\n",
      "\u001b[1;32mpandas\\_libs\\index.pyx\u001b[0m in \u001b[0;36mpandas._libs.index.IndexEngine.get_loc\u001b[1;34m()\u001b[0m\n",
      "\u001b[1;32mpandas\\_libs\\index.pyx\u001b[0m in \u001b[0;36mpandas._libs.index.IndexEngine.get_loc\u001b[1;34m()\u001b[0m\n",
      "\u001b[1;32mpandas\\_libs\\hashtable_class_helper.pxi\u001b[0m in \u001b[0;36mpandas._libs.hashtable.PyObjectHashTable.get_item\u001b[1;34m()\u001b[0m\n",
      "\u001b[1;32mpandas\\_libs\\hashtable_class_helper.pxi\u001b[0m in \u001b[0;36mpandas._libs.hashtable.PyObjectHashTable.get_item\u001b[1;34m()\u001b[0m\n",
      "\u001b[1;31mKeyError\u001b[0m: 'Time since last Personal loan taken (in months)'"
     ]
    }
   ],
   "source": [
    "test_data['Time since last Personal loan taken (in months)'] = test_data['Time since last Personal loan taken (in months)'].fillna(0)\n",
    "test_data['Time since first consumer durables loan taken (in months)'] = test_data['Time since first consumer durables loan taken (in months)'].fillna(0)\n",
    "test_data['Total sanctioned amount in the secured Loans which are Live'] = test_data['Total sanctioned amount in the secured Loans which are Live'].fillna(0)\n",
    "test_data['Total sanctioned amount in the unsecured Loans which are Live'] = test_data['Total sanctioned amount in the unsecured Loans which are Live'].fillna(0)\n",
    "test_data['Maximum amount sanctioned in the Live loans'] = test_data['Maximum amount sanctioned in the Live loans'].fillna(0)"
   ]
  },
  {
   "cell_type": "code",
   "execution_count": null,
   "metadata": {},
   "outputs": [],
   "source": [
    "new_test_data = test_data.dropna()\n",
    "new_test_data = new_test_data.drop(['Date of Birth'],axis=1)\n",
    "# new_test_data"
   ]
  },
  {
   "cell_type": "code",
   "execution_count": null,
   "metadata": {},
   "outputs": [],
   "source": [
    "x_df = new_test_data\n",
    "\n",
    "x_df['Motorcycle'] = x_df['Product code of Two wheeler (MC : Motorcycle , MO : Moped, SC : Scooter)']\n",
    "x_df['Moped'] = x_df['Product code of Two wheeler (MC : Motorcycle , MO : Moped, SC : Scooter)']\n",
    "x_df['Scooter'] = x_df['Product code of Two wheeler (MC : Motorcycle , MO : Moped, SC : Scooter)']\n",
    "\n",
    "x_df['Motorcycle'].replace('MC', '1',inplace=True)\n",
    "x_df['Motorcycle'].replace('SC', '0',inplace=True)\n",
    "x_df['Motorcycle'].replace('MO', '0',inplace=True)\n",
    "\n",
    "x_df['Moped'].replace('MC', '0',inplace=True)\n",
    "x_df['Moped'].replace('SC', '0',inplace=True)\n",
    "x_df['Moped'].replace('MO', '1',inplace=True)\n",
    "\n",
    "x_df['Scooter'].replace('MC', '0',inplace=True)\n",
    "x_df['Scooter'].replace('SC', '1',inplace=True)\n",
    "x_df['Scooter'].replace('MO', '0',inplace=True)\n",
    "\n",
    "x_df = x_df.drop(['Product code of Two wheeler (MC : Motorcycle , MO : Moped, SC : Scooter)'],axis=1)"
   ]
  },
  {
   "cell_type": "code",
   "execution_count": null,
   "metadata": {},
   "outputs": [],
   "source": [
    "y_df = x_df\n",
    "y_df['Geographical Location 1'] = y_df['Tier ; (Customer’s geographical location)']\n",
    "y_df['Geographical Location 2'] = y_df['Tier ; (Customer’s geographical location)']\n",
    "y_df['Geographical Location 3'] = y_df['Tier ; (Customer’s geographical location)']\n",
    "y_df['Geographical Location 4'] = y_df['Tier ; (Customer’s geographical location)']\n",
    "\n",
    "y_df['Geographical Location 1'].replace('TIER 1', '1',inplace=True)\n",
    "y_df['Geographical Location 1'].replace('TIER 2', '0',inplace=True)\n",
    "y_df['Geographical Location 1'].replace('TIER 3', '0',inplace=True)\n",
    "y_df['Geographical Location 1'].replace('TIER 4', '0',inplace=True)\n",
    "\n",
    "y_df['Geographical Location 2'].replace('TIER 1', '0',inplace=True)\n",
    "y_df['Geographical Location 2'].replace('TIER 2', '1',inplace=True)\n",
    "y_df['Geographical Location 2'].replace('TIER 3', '0',inplace=True)\n",
    "y_df['Geographical Location 2'].replace('TIER 4', '0',inplace=True)\n",
    "\n",
    "\n",
    "y_df['Geographical Location 3'].replace('TIER 1', '0',inplace=True)\n",
    "y_df['Geographical Location 3'].replace('TIER 2', '0',inplace=True)\n",
    "y_df['Geographical Location 3'].replace('TIER 3', '1',inplace=True)\n",
    "y_df['Geographical Location 3'].replace('TIER 4', '0',inplace=True)\n",
    "\n",
    "\n",
    "y_df['Geographical Location 4'].replace('TIER 1', '0',inplace=True)\n",
    "y_df['Geographical Location 4'].replace('TIER 2', '0',inplace=True)\n",
    "y_df['Geographical Location 4'].replace('TIER 3', '0',inplace=True)\n",
    "y_df['Geographical Location 4'].replace('TIER 4', '1',inplace=True)\n",
    "\n",
    "y_df = y_df.drop(['Tier ; (Customer’s geographical location)'],axis=1)\n",
    "# y_df"
   ]
  },
  {
   "cell_type": "code",
   "execution_count": null,
   "metadata": {},
   "outputs": [],
   "source": [
    "z_df = y_df\n",
    "\n",
    "z_df.groupby(['Employment type (HOUSEWIFE : housewife, SELF : Self-employed, SAL : Salaried, PENS : Pensioner, STUDENT : Student)']).count()\n",
    "\n",
    "z_df['Housewife'] = z_df['Employment type (HOUSEWIFE : housewife, SELF : Self-employed, SAL : Salaried, PENS : Pensioner, STUDENT : Student)']\n",
    "z_df['Self-Employed'] = z_df['Employment type (HOUSEWIFE : housewife, SELF : Self-employed, SAL : Salaried, PENS : Pensioner, STUDENT : Student)']\n",
    "z_df['Salaried'] = z_df['Employment type (HOUSEWIFE : housewife, SELF : Self-employed, SAL : Salaried, PENS : Pensioner, STUDENT : Student)']\n",
    "z_df['Pensioner'] = z_df['Employment type (HOUSEWIFE : housewife, SELF : Self-employed, SAL : Salaried, PENS : Pensioner, STUDENT : Student)']\n",
    "z_df['Student'] = z_df['Employment type (HOUSEWIFE : housewife, SELF : Self-employed, SAL : Salaried, PENS : Pensioner, STUDENT : Student)']\n",
    "\n",
    "z_df['Housewife'].replace('HOUSEWIFE', '1',inplace=True)\n",
    "z_df['Housewife'].replace('SELF', '0',inplace=True)\n",
    "z_df['Housewife'].replace('SAL', '0',inplace=True)\n",
    "z_df['Housewife'].replace('PENS', '0',inplace=True)\n",
    "z_df['Housewife'].replace('STUDENT', '0',inplace=True)\n",
    "\n",
    "z_df['Self-Employed'].replace('HOUSEWIFE', '0',inplace=True)\n",
    "z_df['Self-Employed'].replace('SELF', '1',inplace=True)\n",
    "z_df['Self-Employed'].replace('SAL', '0',inplace=True)\n",
    "z_df['Self-Employed'].replace('PENS', '0',inplace=True)\n",
    "z_df['Self-Employed'].replace('STUDENT', '0',inplace=True)\n",
    "\n",
    "z_df['Salaried'].replace('HOUSEWIFE', '0',inplace=True)\n",
    "z_df['Salaried'].replace('SELF', '0',inplace=True)\n",
    "z_df['Salaried'].replace('SAL', '1',inplace=True)\n",
    "z_df['Salaried'].replace('PENS', '0',inplace=True)\n",
    "z_df['Salaried'].replace('STUDENT', '0',inplace=True)\n",
    "\n",
    "z_df['Pensioner'].replace('HOUSEWIFE', '0',inplace=True)\n",
    "z_df['Pensioner'].replace('SELF', '0',inplace=True)\n",
    "z_df['Pensioner'].replace('SAL', '0',inplace=True)\n",
    "z_df['Pensioner'].replace('PENS', '1',inplace=True)\n",
    "z_df['Pensioner'].replace('STUDENT', '0',inplace=True)\n",
    "\n",
    "z_df['Student'].replace('HOUSEWIFE', '0',inplace=True)\n",
    "z_df['Student'].replace('SELF', '0',inplace=True)\n",
    "z_df['Student'].replace('SAL', '0',inplace=True)\n",
    "z_df['Student'].replace('PENS', '0',inplace=True)\n",
    "z_df['Student'].replace('STUDENT', '1',inplace=True)\n",
    "\n",
    "z_df = z_df.drop(['Employment type (HOUSEWIFE : housewife, SELF : Self-employed, SAL : Salaried, PENS : Pensioner, STUDENT : Student)'],axis=1)\n",
    "# z_df"
   ]
  },
  {
   "cell_type": "code",
   "execution_count": null,
   "metadata": {},
   "outputs": [],
   "source": [
    "a_df = z_df\n",
    "a_df['Gender'].replace('MALE', '0',inplace=True)\n",
    "a_df['Gender'].replace('FEMALE', '1',inplace=True)\n",
    "a_df = a_df.rename(columns={'Gender':'Gender(Male = 0, Female = 1)'})\n",
    "\n",
    "# a_df"
   ]
  },
  {
   "cell_type": "code",
   "execution_count": null,
   "metadata": {},
   "outputs": [],
   "source": [
    "b_df = a_df\n",
    "\n",
    "b_df['Residence Owned By Office'] = b_df['Resident type of customer']\n",
    "b_df['Residence Owned'] = b_df['Resident type of customer']\n",
    "b_df['Residence Rented'] = b_df['Resident type of customer']\n",
    "\n",
    "b_df['Residence Owned By Office'].replace('OWENED BY OFFICE', '1',inplace=True)\n",
    "b_df['Residence Owned By Office'].replace('OWNED', '0',inplace=True)\n",
    "b_df['Residence Owned By Office'].replace('RENT', '0',inplace=True)\n",
    "\n",
    "b_df['Residence Owned'].replace('OWENED BY OFFICE', '0',inplace=True)\n",
    "b_df['Residence Owned'].replace('OWNED', '1',inplace=True)\n",
    "b_df['Residence Owned'].replace('RENT', '0',inplace=True)\n",
    "\n",
    "b_df['Residence Rented'].replace('OWENED BY OFFICE', '0',inplace=True)\n",
    "b_df['Residence Rented'].replace('OWNED', '0',inplace=True)\n",
    "b_df['Residence Rented'].replace('RENT', '1',inplace=True)\n",
    "\n",
    "b_df = b_df.drop(['Resident type of customer'],axis=1)\n",
    "# b_df"
   ]
  },
  {
   "cell_type": "code",
   "execution_count": null,
   "metadata": {
    "scrolled": false
   },
   "outputs": [],
   "source": [
    "final_df = b_df\n",
    "final_df"
   ]
  },
  {
   "cell_type": "code",
   "execution_count": null,
   "metadata": {},
   "outputs": [],
   "source": [
    "test_data = pd.read_csv(\"./TVS.csv\", encoding = 'utf-8')"
   ]
  },
  {
   "cell_type": "code",
   "execution_count": null,
   "metadata": {},
   "outputs": [],
   "source": []
  }
 ],
 "metadata": {
  "kernelspec": {
   "display_name": "Python 3",
   "language": "python",
   "name": "python3"
  },
  "language_info": {
   "codemirror_mode": {
    "name": "ipython",
    "version": 3
   },
   "file_extension": ".py",
   "mimetype": "text/x-python",
   "name": "python",
   "nbconvert_exporter": "python",
   "pygments_lexer": "ipython3",
   "version": "3.7.6"
  }
 },
 "nbformat": 4,
 "nbformat_minor": 4
}
