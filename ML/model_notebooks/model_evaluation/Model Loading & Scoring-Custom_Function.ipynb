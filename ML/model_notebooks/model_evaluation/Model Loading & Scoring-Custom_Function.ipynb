{
 "cells": [
  {
   "cell_type": "markdown",
   "metadata": {},
   "source": [
    "# Overall Model Test"
   ]
  },
  {
   "cell_type": "code",
   "execution_count": 5,
   "metadata": {},
   "outputs": [],
   "source": [
    "import joblib\n",
    "import pandas as pd"
   ]
  },
  {
   "cell_type": "code",
   "execution_count": 6,
   "metadata": {},
   "outputs": [],
   "source": [
    "#load data from csv\n",
    "df = pd.read_csv(\"../../../cleaned_data/output.csv\")\n",
    "y = df['Target variable ( 1: Defaulters / 0: Non-Defaulters)']\n",
    "X = df[['EMI', 'Loan Amount', 'Maximum amount sanctioned for any Two wheeler loan', \n",
    "                       'Age at which customer has taken the loan', 'Rate of Interest', \n",
    "                        'Number of times 30 days past due in last 6 months', 'Maximum MOB (Month of business with TVS Credit)',\n",
    "                       'Number of times 60 days past due in last 6 months', 'Number of loans', \n",
    "                        'Maximum amount sanctioned in the Live loans', 'Number of times 90 days past due in last 3 months', \n",
    "                       'Tenure', 'Number of times bounced while repaying the loan']]"
   ]
  },
  {
   "cell_type": "code",
   "execution_count": 7,
   "metadata": {},
   "outputs": [],
   "source": [
    "# Create the GridSearchCV model\n",
    "from sklearn.model_selection import GridSearchCV\n",
    "from sklearn.metrics import make_scorer\n",
    "\n",
    "def equi_loans_val(y_true, y_pred):\n",
    "    valid_predictions = 0\n",
    "    invalid_predictions = 0\n",
    "    \n",
    "    for i in range(0, len(y_pred)):\n",
    "        if (y_pred[i] == 1):\n",
    "            if (y_true.array[i] == 1):\n",
    "                valid_predictions+=1\n",
    "            else:\n",
    "                invalid_predictions+=1\n",
    "    \n",
    "    return valid_predictions*5-invalid_predictions"
   ]
  },
  {
   "cell_type": "code",
   "execution_count": 9,
   "metadata": {},
   "outputs": [],
   "source": [
    "#load the saved model - change filename variable as desired\n",
    "filename = 'XGBoost_custom_scorer.sav'\n",
    "model = joblib.load('../../best_models/' + filename)"
   ]
  },
  {
   "cell_type": "code",
   "execution_count": 10,
   "metadata": {},
   "outputs": [],
   "source": [
    "from sklearn.preprocessing import MinMaxScaler\n",
    "\n",
    "#setup predictions from model\n",
    "X_scaler = MinMaxScaler().fit(X.copy())\n",
    "\n",
    "X_overall_scaled = X_scaler.transform(X.copy())\n",
    "\n",
    "#compare with the test data!\n",
    "predictions = model.predict(X_overall_scaled)"
   ]
  },
  {
   "cell_type": "code",
   "execution_count": 11,
   "metadata": {},
   "outputs": [
    {
     "data": {
      "text/plain": [
       "1844"
      ]
     },
     "execution_count": 11,
     "metadata": {},
     "output_type": "execute_result"
    }
   ],
   "source": [
    "#score model\n",
    "model.score(X_overall_scaled, y)"
   ]
  },
  {
   "cell_type": "code",
   "execution_count": 12,
   "metadata": {},
   "outputs": [
    {
     "data": {
      "image/png": "[encoded data removed]",
      "text/plain": [
       "<Figure size 432x288 with 2 Axes>"
      ]
     },
     "metadata": {
      "needs_background": "light"
     },
     "output_type": "display_data"
    }
   ],
   "source": [
    "import sys\n",
    "# insert at 1, 0 is the script path (or '' in REPL)\n",
    "sys.path.insert(1, '../')\n",
    "\n",
    "from confusion_matrix_plot import plot_confusion_matrix\n",
    "from sklearn.metrics import confusion_matrix\n",
    "\n",
    "thresh = 0.08\n",
    "predictions [predictions > thresh] = 1\n",
    "predictions [predictions <= thresh] = 0\n",
    "cm = confusion_matrix(y, predictions)\n",
    "plot_confusion_matrix(cm, ['0', '1'], )"
   ]
  },
  {
   "cell_type": "markdown",
   "metadata": {},
   "source": [
    "## Equivalent Loans Generated (basis for comparing overall model scores)\n",
    "* The following section describes a value that represents the approximate \"equivalent loans\" that would be given and not default if this model is used to prevent all personal loan offers to the identified potential defaulter group (assuming all offers would be accepted, so this is a maximum value that may not be reproduced in practice)\n",
    "* This value represents a good point of comparison to the overall number of loans in the dataset of 73532\n",
    "* As long as this value is positive, the model likely has some financial worth to the company, even if it is not necessarily optimal\n",
    "* This number can be used as a metric to compare the results of different saved models after loading them into this notebook"
   ]
  },
  {
   "cell_type": "code",
   "execution_count": 13,
   "metadata": {},
   "outputs": [
    {
     "data": {
      "text/plain": [
       "1844"
      ]
     },
     "execution_count": 13,
     "metadata": {},
     "output_type": "execute_result"
    }
   ],
   "source": [
    "def get_equivalent_loans(conf_matrix):\n",
    "    return conf_matrix[1][1]*5 - conf_matrix[0, 1] \n",
    "\n",
    "num_loans = get_equivalent_loans(cm)\n",
    "num_loans"
   ]
  },
  {
   "cell_type": "code",
   "execution_count": 14,
   "metadata": {},
   "outputs": [
    {
     "data": {
      "text/plain": [
       "210768.5319958277"
      ]
     },
     "execution_count": 14,
     "metadata": {},
     "output_type": "execute_result"
    }
   ],
   "source": [
    "#looking at this as a loan that worked successfully, we can approximate the profit from \"generating\" this many additional loans\n",
    "#by using the average profit per loan from the financial exploration notebook\n",
    "def get_savings(loans):\n",
    "    #get the dollar amount of total savings\n",
    "    #8164.259838698005 is the profit in rupees per loan\n",
    "    #0.014 is the exchange rate for rupees to dollars\n",
    "    return loans*8164.259838698005*0.014\n",
    "\n",
    "approx_savings = get_savings(num_loans)\n",
    "approx_savings"
   ]
  },
  {
   "cell_type": "code",
   "execution_count": null,
   "metadata": {},
   "outputs": [],
   "source": []
  }
 ],
 "metadata": {
  "kernelspec": {
   "display_name": "Python 3",
   "language": "python",
   "name": "python3"
  },
  "language_info": {
   "codemirror_mode": {
    "name": "ipython",
    "version": 3
   },
   "file_extension": ".py",
   "mimetype": "text/x-python",
   "name": "python",
   "nbconvert_exporter": "python",
   "pygments_lexer": "ipython3",
   "version": "3.7.6"
  }
 },
 "nbformat": 4,
 "nbformat_minor": 4
}
