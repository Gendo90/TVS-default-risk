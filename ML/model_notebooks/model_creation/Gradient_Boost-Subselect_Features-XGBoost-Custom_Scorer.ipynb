{
 "cells": [
  {
   "cell_type": "code",
   "execution_count": null,
   "metadata": {},
   "outputs": [],
   "source": [
    "# Update sklearn to prevent version mismatches\n",
    "!pip install sklearn --upgrade"
   ]
  },
  {
   "cell_type": "code",
   "execution_count": null,
   "metadata": {},
   "outputs": [],
   "source": [
    "# install joblib. This will be used to save your model. \n",
    "# Restart your kernel after installing \n",
    "!pip install joblib"
   ]
  },
  {
   "cell_type": "code",
   "execution_count": null,
   "metadata": {},
   "outputs": [],
   "source": [
    "!pip install xgboost"
   ]
  },
  {
   "cell_type": "code",
   "execution_count": 1,
   "metadata": {},
   "outputs": [],
   "source": [
    "import pandas as pd"
   ]
  },
  {
   "cell_type": "markdown",
   "metadata": {},
   "source": [
    "# Read the CSV and Perform Basic Data Cleaning"
   ]
  },
  {
   "cell_type": "code",
   "execution_count": 2,
   "metadata": {},
   "outputs": [
    {
     "data": {
      "text/html": [
       "<div>\n",
       "<style scoped>\n",
       "    .dataframe tbody tr th:only-of-type {\n",
       "        vertical-align: middle;\n",
       "    }\n",
       "\n",
       "    .dataframe tbody tr th {\n",
       "        vertical-align: top;\n",
       "    }\n",
       "\n",
       "    .dataframe thead th {\n",
       "        text-align: right;\n",
       "    }\n",
       "</style>\n",
       "<table border=\"1\" class=\"dataframe\">\n",
       "  <thead>\n",
       "    <tr style=\"text-align: right;\">\n",
       "      <th></th>\n",
       "      <th>Customer ID</th>\n",
       "      <th>If a customer has bounced in first EMI (1 : Bounced, 0 : Not bounced)</th>\n",
       "      <th>Number of times bounced in recent 12 months</th>\n",
       "      <th>Maximum MOB (Month of business with TVS Credit)</th>\n",
       "      <th>Number of times bounced while repaying the loan</th>\n",
       "      <th>EMI</th>\n",
       "      <th>Loan Amount</th>\n",
       "      <th>Tenure</th>\n",
       "      <th>Dealer codes from where customer has purchased the Two wheeler</th>\n",
       "      <th>No of advance EMI paid</th>\n",
       "      <th>...</th>\n",
       "      <th>Geographical Location 3</th>\n",
       "      <th>Geographical Location 4</th>\n",
       "      <th>Housewife</th>\n",
       "      <th>Self-Employed</th>\n",
       "      <th>Salaried</th>\n",
       "      <th>Pensioner</th>\n",
       "      <th>Student</th>\n",
       "      <th>Residence Owned By Office</th>\n",
       "      <th>Residence Owned</th>\n",
       "      <th>Residence Rented</th>\n",
       "    </tr>\n",
       "  </thead>\n",
       "  <tbody>\n",
       "    <tr>\n",
       "      <th>0</th>\n",
       "      <td>1</td>\n",
       "      <td>0</td>\n",
       "      <td>0</td>\n",
       "      <td>24.0</td>\n",
       "      <td>0.0</td>\n",
       "      <td>2432.0</td>\n",
       "      <td>46500.0</td>\n",
       "      <td>24.0</td>\n",
       "      <td>1385.0</td>\n",
       "      <td>0.0</td>\n",
       "      <td>...</td>\n",
       "      <td>0</td>\n",
       "      <td>0</td>\n",
       "      <td>1</td>\n",
       "      <td>0</td>\n",
       "      <td>0</td>\n",
       "      <td>0</td>\n",
       "      <td>0</td>\n",
       "      <td>0</td>\n",
       "      <td>1</td>\n",
       "      <td>0</td>\n",
       "    </tr>\n",
       "    <tr>\n",
       "      <th>1</th>\n",
       "      <td>2</td>\n",
       "      <td>0</td>\n",
       "      <td>1</td>\n",
       "      <td>24.0</td>\n",
       "      <td>1.0</td>\n",
       "      <td>1495.0</td>\n",
       "      <td>28168.0</td>\n",
       "      <td>24.0</td>\n",
       "      <td>2496.0</td>\n",
       "      <td>0.0</td>\n",
       "      <td>...</td>\n",
       "      <td>0</td>\n",
       "      <td>0</td>\n",
       "      <td>0</td>\n",
       "      <td>1</td>\n",
       "      <td>0</td>\n",
       "      <td>0</td>\n",
       "      <td>0</td>\n",
       "      <td>0</td>\n",
       "      <td>0</td>\n",
       "      <td>1</td>\n",
       "    </tr>\n",
       "    <tr>\n",
       "      <th>2</th>\n",
       "      <td>3</td>\n",
       "      <td>0</td>\n",
       "      <td>0</td>\n",
       "      <td>26.0</td>\n",
       "      <td>0.0</td>\n",
       "      <td>1707.0</td>\n",
       "      <td>38900.0</td>\n",
       "      <td>30.0</td>\n",
       "      <td>1346.0</td>\n",
       "      <td>0.0</td>\n",
       "      <td>...</td>\n",
       "      <td>0</td>\n",
       "      <td>0</td>\n",
       "      <td>0</td>\n",
       "      <td>1</td>\n",
       "      <td>0</td>\n",
       "      <td>0</td>\n",
       "      <td>0</td>\n",
       "      <td>0</td>\n",
       "      <td>0</td>\n",
       "      <td>1</td>\n",
       "    </tr>\n",
       "    <tr>\n",
       "      <th>3</th>\n",
       "      <td>4</td>\n",
       "      <td>0</td>\n",
       "      <td>0</td>\n",
       "      <td>24.0</td>\n",
       "      <td>0.0</td>\n",
       "      <td>2128.0</td>\n",
       "      <td>42900.0</td>\n",
       "      <td>24.0</td>\n",
       "      <td>1375.0</td>\n",
       "      <td>2.0</td>\n",
       "      <td>...</td>\n",
       "      <td>0</td>\n",
       "      <td>0</td>\n",
       "      <td>0</td>\n",
       "      <td>0</td>\n",
       "      <td>1</td>\n",
       "      <td>0</td>\n",
       "      <td>0</td>\n",
       "      <td>0</td>\n",
       "      <td>0</td>\n",
       "      <td>1</td>\n",
       "    </tr>\n",
       "    <tr>\n",
       "      <th>4</th>\n",
       "      <td>5</td>\n",
       "      <td>0</td>\n",
       "      <td>0</td>\n",
       "      <td>27.0</td>\n",
       "      <td>0.0</td>\n",
       "      <td>1824.0</td>\n",
       "      <td>40900.0</td>\n",
       "      <td>30.0</td>\n",
       "      <td>4140.0</td>\n",
       "      <td>0.0</td>\n",
       "      <td>...</td>\n",
       "      <td>0</td>\n",
       "      <td>0</td>\n",
       "      <td>0</td>\n",
       "      <td>0</td>\n",
       "      <td>1</td>\n",
       "      <td>0</td>\n",
       "      <td>0</td>\n",
       "      <td>0</td>\n",
       "      <td>0</td>\n",
       "      <td>1</td>\n",
       "    </tr>\n",
       "    <tr>\n",
       "      <th>...</th>\n",
       "      <td>...</td>\n",
       "      <td>...</td>\n",
       "      <td>...</td>\n",
       "      <td>...</td>\n",
       "      <td>...</td>\n",
       "      <td>...</td>\n",
       "      <td>...</td>\n",
       "      <td>...</td>\n",
       "      <td>...</td>\n",
       "      <td>...</td>\n",
       "      <td>...</td>\n",
       "      <td>...</td>\n",
       "      <td>...</td>\n",
       "      <td>...</td>\n",
       "      <td>...</td>\n",
       "      <td>...</td>\n",
       "      <td>...</td>\n",
       "      <td>...</td>\n",
       "      <td>...</td>\n",
       "      <td>...</td>\n",
       "      <td>...</td>\n",
       "    </tr>\n",
       "    <tr>\n",
       "      <th>73527</th>\n",
       "      <td>85044</td>\n",
       "      <td>0</td>\n",
       "      <td>0</td>\n",
       "      <td>14.0</td>\n",
       "      <td>0.0</td>\n",
       "      <td>2941.0</td>\n",
       "      <td>47900.0</td>\n",
       "      <td>18.0</td>\n",
       "      <td>1375.0</td>\n",
       "      <td>1.0</td>\n",
       "      <td>...</td>\n",
       "      <td>0</td>\n",
       "      <td>0</td>\n",
       "      <td>0</td>\n",
       "      <td>0</td>\n",
       "      <td>1</td>\n",
       "      <td>0</td>\n",
       "      <td>0</td>\n",
       "      <td>0</td>\n",
       "      <td>1</td>\n",
       "      <td>0</td>\n",
       "    </tr>\n",
       "    <tr>\n",
       "      <th>73528</th>\n",
       "      <td>85045</td>\n",
       "      <td>0</td>\n",
       "      <td>0</td>\n",
       "      <td>10.0</td>\n",
       "      <td>0.0</td>\n",
       "      <td>2870.0</td>\n",
       "      <td>41000.0</td>\n",
       "      <td>15.0</td>\n",
       "      <td>20061.0</td>\n",
       "      <td>3.0</td>\n",
       "      <td>...</td>\n",
       "      <td>0</td>\n",
       "      <td>1</td>\n",
       "      <td>0</td>\n",
       "      <td>1</td>\n",
       "      <td>0</td>\n",
       "      <td>0</td>\n",
       "      <td>0</td>\n",
       "      <td>0</td>\n",
       "      <td>1</td>\n",
       "      <td>0</td>\n",
       "    </tr>\n",
       "    <tr>\n",
       "      <th>73529</th>\n",
       "      <td>85046</td>\n",
       "      <td>0</td>\n",
       "      <td>0</td>\n",
       "      <td>10.0</td>\n",
       "      <td>0.0</td>\n",
       "      <td>2720.0</td>\n",
       "      <td>28350.0</td>\n",
       "      <td>12.0</td>\n",
       "      <td>3982.0</td>\n",
       "      <td>0.0</td>\n",
       "      <td>...</td>\n",
       "      <td>0</td>\n",
       "      <td>0</td>\n",
       "      <td>0</td>\n",
       "      <td>1</td>\n",
       "      <td>0</td>\n",
       "      <td>0</td>\n",
       "      <td>0</td>\n",
       "      <td>0</td>\n",
       "      <td>1</td>\n",
       "      <td>0</td>\n",
       "    </tr>\n",
       "    <tr>\n",
       "      <th>73530</th>\n",
       "      <td>85047</td>\n",
       "      <td>0</td>\n",
       "      <td>0</td>\n",
       "      <td>8.0</td>\n",
       "      <td>0.0</td>\n",
       "      <td>3500.0</td>\n",
       "      <td>50000.0</td>\n",
       "      <td>15.0</td>\n",
       "      <td>1151.0</td>\n",
       "      <td>5.0</td>\n",
       "      <td>...</td>\n",
       "      <td>1</td>\n",
       "      <td>0</td>\n",
       "      <td>0</td>\n",
       "      <td>0</td>\n",
       "      <td>1</td>\n",
       "      <td>0</td>\n",
       "      <td>0</td>\n",
       "      <td>0</td>\n",
       "      <td>1</td>\n",
       "      <td>0</td>\n",
       "    </tr>\n",
       "    <tr>\n",
       "      <th>73531</th>\n",
       "      <td>85048</td>\n",
       "      <td>0</td>\n",
       "      <td>0</td>\n",
       "      <td>8.0</td>\n",
       "      <td>0.0</td>\n",
       "      <td>2750.0</td>\n",
       "      <td>27500.0</td>\n",
       "      <td>10.0</td>\n",
       "      <td>1013.0</td>\n",
       "      <td>0.0</td>\n",
       "      <td>...</td>\n",
       "      <td>0</td>\n",
       "      <td>1</td>\n",
       "      <td>0</td>\n",
       "      <td>0</td>\n",
       "      <td>1</td>\n",
       "      <td>0</td>\n",
       "      <td>0</td>\n",
       "      <td>0</td>\n",
       "      <td>1</td>\n",
       "      <td>0</td>\n",
       "    </tr>\n",
       "  </tbody>\n",
       "</table>\n",
       "<p>73532 rows × 42 columns</p>\n",
       "</div>"
      ],
      "text/plain": [
       "       Customer ID  \\\n",
       "0                1   \n",
       "1                2   \n",
       "2                3   \n",
       "3                4   \n",
       "4                5   \n",
       "...            ...   \n",
       "73527        85044   \n",
       "73528        85045   \n",
       "73529        85046   \n",
       "73530        85047   \n",
       "73531        85048   \n",
       "\n",
       "       If a customer has bounced in first EMI (1 : Bounced, 0 : Not bounced)  \\\n",
       "0                                                      0                       \n",
       "1                                                      0                       \n",
       "2                                                      0                       \n",
       "3                                                      0                       \n",
       "4                                                      0                       \n",
       "...                                                  ...                       \n",
       "73527                                                  0                       \n",
       "73528                                                  0                       \n",
       "73529                                                  0                       \n",
       "73530                                                  0                       \n",
       "73531                                                  0                       \n",
       "\n",
       "       Number of times bounced in recent 12 months  \\\n",
       "0                                                0   \n",
       "1                                                1   \n",
       "2                                                0   \n",
       "3                                                0   \n",
       "4                                                0   \n",
       "...                                            ...   \n",
       "73527                                            0   \n",
       "73528                                            0   \n",
       "73529                                            0   \n",
       "73530                                            0   \n",
       "73531                                            0   \n",
       "\n",
       "       Maximum MOB (Month of business with TVS Credit)  \\\n",
       "0                                                 24.0   \n",
       "1                                                 24.0   \n",
       "2                                                 26.0   \n",
       "3                                                 24.0   \n",
       "4                                                 27.0   \n",
       "...                                                ...   \n",
       "73527                                             14.0   \n",
       "73528                                             10.0   \n",
       "73529                                             10.0   \n",
       "73530                                              8.0   \n",
       "73531                                              8.0   \n",
       "\n",
       "       Number of times bounced while repaying the loan     EMI  Loan Amount  \\\n",
       "0                                                  0.0  2432.0      46500.0   \n",
       "1                                                  1.0  1495.0      28168.0   \n",
       "2                                                  0.0  1707.0      38900.0   \n",
       "3                                                  0.0  2128.0      42900.0   \n",
       "4                                                  0.0  1824.0      40900.0   \n",
       "...                                                ...     ...          ...   \n",
       "73527                                              0.0  2941.0      47900.0   \n",
       "73528                                              0.0  2870.0      41000.0   \n",
       "73529                                              0.0  2720.0      28350.0   \n",
       "73530                                              0.0  3500.0      50000.0   \n",
       "73531                                              0.0  2750.0      27500.0   \n",
       "\n",
       "       Tenure  Dealer codes from where customer has purchased the Two wheeler  \\\n",
       "0        24.0                                             1385.0                \n",
       "1        24.0                                             2496.0                \n",
       "2        30.0                                             1346.0                \n",
       "3        24.0                                             1375.0                \n",
       "4        30.0                                             4140.0                \n",
       "...       ...                                                ...                \n",
       "73527    18.0                                             1375.0                \n",
       "73528    15.0                                            20061.0                \n",
       "73529    12.0                                             3982.0                \n",
       "73530    15.0                                             1151.0                \n",
       "73531    10.0                                             1013.0                \n",
       "\n",
       "       No of advance EMI paid  ...  Geographical Location 3  \\\n",
       "0                         0.0  ...                        0   \n",
       "1                         0.0  ...                        0   \n",
       "2                         0.0  ...                        0   \n",
       "3                         2.0  ...                        0   \n",
       "4                         0.0  ...                        0   \n",
       "...                       ...  ...                      ...   \n",
       "73527                     1.0  ...                        0   \n",
       "73528                     3.0  ...                        0   \n",
       "73529                     0.0  ...                        0   \n",
       "73530                     5.0  ...                        1   \n",
       "73531                     0.0  ...                        0   \n",
       "\n",
       "       Geographical Location 4  Housewife  Self-Employed  Salaried  Pensioner  \\\n",
       "0                            0          1              0         0          0   \n",
       "1                            0          0              1         0          0   \n",
       "2                            0          0              1         0          0   \n",
       "3                            0          0              0         1          0   \n",
       "4                            0          0              0         1          0   \n",
       "...                        ...        ...            ...       ...        ...   \n",
       "73527                        0          0              0         1          0   \n",
       "73528                        1          0              1         0          0   \n",
       "73529                        0          0              1         0          0   \n",
       "73530                        0          0              0         1          0   \n",
       "73531                        1          0              0         1          0   \n",
       "\n",
       "       Student  Residence Owned By Office  Residence Owned  Residence Rented  \n",
       "0            0                          0                1                 0  \n",
       "1            0                          0                0                 1  \n",
       "2            0                          0                0                 1  \n",
       "3            0                          0                0                 1  \n",
       "4            0                          0                0                 1  \n",
       "...        ...                        ...              ...               ...  \n",
       "73527        0                          0                1                 0  \n",
       "73528        0                          0                1                 0  \n",
       "73529        0                          0                1                 0  \n",
       "73530        0                          0                1                 0  \n",
       "73531        0                          0                1                 0  \n",
       "\n",
       "[73532 rows x 42 columns]"
      ]
     },
     "execution_count": 2,
     "metadata": {},
     "output_type": "execute_result"
    }
   ],
   "source": [
    "df = pd.read_csv(\"output.csv\")\n",
    "# Drop the null columns where all values are null\n",
    "df = df.dropna(axis='columns', how='all')\n",
    "# Drop the null rows\n",
    "df = df.dropna()\n",
    "df"
   ]
  },
  {
   "cell_type": "code",
   "execution_count": 3,
   "metadata": {},
   "outputs": [
    {
     "data": {
      "text/plain": [
       "Index(['Customer ID',\n",
       "       'If a customer has bounced in first EMI (1 : Bounced, 0 : Not bounced)',\n",
       "       'Number of times bounced in recent 12 months',\n",
       "       'Maximum MOB (Month of business with TVS Credit)',\n",
       "       'Number of times bounced while repaying the loan', 'EMI', 'Loan Amount',\n",
       "       'Tenure',\n",
       "       'Dealer codes from where customer has purchased the Two wheeler',\n",
       "       'No of advance EMI paid', 'Rate of Interest',\n",
       "       'Gender(Male = 0, Female = 1)',\n",
       "       'Age at which customer has taken the loan', 'Number of loans',\n",
       "       ' Number of secured loans', ' Number of unsecured loans',\n",
       "       'Maximum amount sanctioned in the Live loans',\n",
       "       'Number of new loans in last 3 months',\n",
       "       'Total sanctioned amount in the secured Loans which are Live',\n",
       "       'Total sanctioned amount in the unsecured Loans which are Live',\n",
       "       'Maximum amount sanctioned for any Two wheeler loan',\n",
       "       'Time since last Personal loan taken (in months)',\n",
       "       'Time since first consumer durables loan taken (in months)',\n",
       "       'Number of times 30 days past due in last 6 months',\n",
       "       'Number of times 60 days past due in last 6 months',\n",
       "       'Number of times 90 days past due in last 3 months',\n",
       "       'Target variable ( 1: Defaulters / 0: Non-Defaulters)', 'Motorcycle',\n",
       "       'Moped', 'Scooter', 'Geographical Location 1',\n",
       "       'Geographical Location 2', 'Geographical Location 3',\n",
       "       'Geographical Location 4', 'Housewife', 'Self-Employed', 'Salaried',\n",
       "       'Pensioner', 'Student', 'Residence Owned By Office', 'Residence Owned',\n",
       "       'Residence Rented'],\n",
       "      dtype='object')"
      ]
     },
     "execution_count": 3,
     "metadata": {},
     "output_type": "execute_result"
    }
   ],
   "source": [
    "df.columns\n"
   ]
  },
  {
   "cell_type": "code",
   "execution_count": 25,
   "metadata": {},
   "outputs": [
    {
     "data": {
      "text/plain": [
       "0    71904\n",
       "1     1628\n",
       "Name: Target variable ( 1: Defaulters / 0: Non-Defaulters), dtype: int64"
      ]
     },
     "execution_count": 25,
     "metadata": {},
     "output_type": "execute_result"
    }
   ],
   "source": [
    "y = df['Target variable ( 1: Defaulters / 0: Non-Defaulters)']\n",
    "df['Target variable ( 1: Defaulters / 0: Non-Defaulters)'].value_counts()"
   ]
  },
  {
   "cell_type": "markdown",
   "metadata": {},
   "source": [
    "# Select your features (columns)"
   ]
  },
  {
   "cell_type": "code",
   "execution_count": 5,
   "metadata": {},
   "outputs": [],
   "source": [
    "# Set features. This will also be used as your x values.\n",
    "selected_features = df[['EMI', 'Loan Amount', 'Maximum amount sanctioned for any Two wheeler loan', \n",
    "                       'Age at which customer has taken the loan', 'Rate of Interest', \n",
    "                        'Number of times 30 days past due in last 6 months', 'Maximum MOB (Month of business with TVS Credit)',\n",
    "                       'Number of times 60 days past due in last 6 months', 'Number of loans', \n",
    "                        'Maximum amount sanctioned in the Live loans', 'Number of times 90 days past due in last 3 months', \n",
    "                       'Tenure', 'Number of times bounced while repaying the loan']]"
   ]
  },
  {
   "cell_type": "markdown",
   "metadata": {},
   "source": [
    "# Create a Train Test Split\n",
    "\n",
    "Use `Target variable ( 1: Defaulters / 0: Non-Defaulters)` for the y values"
   ]
  },
  {
   "cell_type": "code",
   "execution_count": 50,
   "metadata": {},
   "outputs": [],
   "source": [
    "from sklearn.model_selection import train_test_split\n",
    "\n",
    "X = selected_features\n",
    "\n",
    "X_train, X_test, y_train, y_test = train_test_split(X, y, test_size=0.2, train_size=0.8, random_state=40)"
   ]
  },
  {
   "cell_type": "code",
   "execution_count": 51,
   "metadata": {},
   "outputs": [
    {
     "data": {
      "text/html": [
       "<div>\n",
       "<style scoped>\n",
       "    .dataframe tbody tr th:only-of-type {\n",
       "        vertical-align: middle;\n",
       "    }\n",
       "\n",
       "    .dataframe tbody tr th {\n",
       "        vertical-align: top;\n",
       "    }\n",
       "\n",
       "    .dataframe thead th {\n",
       "        text-align: right;\n",
       "    }\n",
       "</style>\n",
       "<table border=\"1\" class=\"dataframe\">\n",
       "  <thead>\n",
       "    <tr style=\"text-align: right;\">\n",
       "      <th></th>\n",
       "      <th>EMI</th>\n",
       "      <th>Loan Amount</th>\n",
       "      <th>Maximum amount sanctioned for any Two wheeler loan</th>\n",
       "      <th>Age at which customer has taken the loan</th>\n",
       "      <th>Rate of Interest</th>\n",
       "      <th>Number of times 30 days past due in last 6 months</th>\n",
       "      <th>Maximum MOB (Month of business with TVS Credit)</th>\n",
       "      <th>Number of times 60 days past due in last 6 months</th>\n",
       "      <th>Number of loans</th>\n",
       "      <th>Maximum amount sanctioned in the Live loans</th>\n",
       "      <th>Number of times 90 days past due in last 3 months</th>\n",
       "      <th>Tenure</th>\n",
       "      <th>Number of times bounced while repaying the loan</th>\n",
       "    </tr>\n",
       "  </thead>\n",
       "  <tbody>\n",
       "    <tr>\n",
       "      <th>33985</th>\n",
       "      <td>1632.0</td>\n",
       "      <td>23400.0</td>\n",
       "      <td>23400.0</td>\n",
       "      <td>42.0</td>\n",
       "      <td>17.00</td>\n",
       "      <td>3</td>\n",
       "      <td>14.0</td>\n",
       "      <td>3</td>\n",
       "      <td>2</td>\n",
       "      <td>0.0</td>\n",
       "      <td>3</td>\n",
       "      <td>18.0</td>\n",
       "      <td>1.0</td>\n",
       "    </tr>\n",
       "    <tr>\n",
       "      <th>28111</th>\n",
       "      <td>2182.0</td>\n",
       "      <td>40900.0</td>\n",
       "      <td>40900.0</td>\n",
       "      <td>50.0</td>\n",
       "      <td>14.00</td>\n",
       "      <td>0</td>\n",
       "      <td>20.0</td>\n",
       "      <td>0</td>\n",
       "      <td>2</td>\n",
       "      <td>0.0</td>\n",
       "      <td>0</td>\n",
       "      <td>24.0</td>\n",
       "      <td>0.0</td>\n",
       "    </tr>\n",
       "    <tr>\n",
       "      <th>72020</th>\n",
       "      <td>2500.0</td>\n",
       "      <td>25000.0</td>\n",
       "      <td>25000.0</td>\n",
       "      <td>56.0</td>\n",
       "      <td>0.00</td>\n",
       "      <td>0</td>\n",
       "      <td>8.0</td>\n",
       "      <td>0</td>\n",
       "      <td>1</td>\n",
       "      <td>0.0</td>\n",
       "      <td>0</td>\n",
       "      <td>10.0</td>\n",
       "      <td>0.0</td>\n",
       "    </tr>\n",
       "    <tr>\n",
       "      <th>26202</th>\n",
       "      <td>2872.0</td>\n",
       "      <td>56500.0</td>\n",
       "      <td>56500.0</td>\n",
       "      <td>32.0</td>\n",
       "      <td>10.99</td>\n",
       "      <td>0</td>\n",
       "      <td>20.0</td>\n",
       "      <td>0</td>\n",
       "      <td>1</td>\n",
       "      <td>0.0</td>\n",
       "      <td>0</td>\n",
       "      <td>24.0</td>\n",
       "      <td>1.0</td>\n",
       "    </tr>\n",
       "    <tr>\n",
       "      <th>65572</th>\n",
       "      <td>3382.0</td>\n",
       "      <td>39017.0</td>\n",
       "      <td>39017.0</td>\n",
       "      <td>37.0</td>\n",
       "      <td>3.99</td>\n",
       "      <td>0</td>\n",
       "      <td>12.0</td>\n",
       "      <td>0</td>\n",
       "      <td>5</td>\n",
       "      <td>475000.0</td>\n",
       "      <td>0</td>\n",
       "      <td>12.0</td>\n",
       "      <td>0.0</td>\n",
       "    </tr>\n",
       "  </tbody>\n",
       "</table>\n",
       "</div>"
      ],
      "text/plain": [
       "          EMI  Loan Amount  \\\n",
       "33985  1632.0      23400.0   \n",
       "28111  2182.0      40900.0   \n",
       "72020  2500.0      25000.0   \n",
       "26202  2872.0      56500.0   \n",
       "65572  3382.0      39017.0   \n",
       "\n",
       "       Maximum amount sanctioned for any Two wheeler loan  \\\n",
       "33985                                            23400.0    \n",
       "28111                                            40900.0    \n",
       "72020                                            25000.0    \n",
       "26202                                            56500.0    \n",
       "65572                                            39017.0    \n",
       "\n",
       "       Age at which customer has taken the loan  Rate of Interest  \\\n",
       "33985                                      42.0             17.00   \n",
       "28111                                      50.0             14.00   \n",
       "72020                                      56.0              0.00   \n",
       "26202                                      32.0             10.99   \n",
       "65572                                      37.0              3.99   \n",
       "\n",
       "       Number of times 30 days past due in last 6 months  \\\n",
       "33985                                                  3   \n",
       "28111                                                  0   \n",
       "72020                                                  0   \n",
       "26202                                                  0   \n",
       "65572                                                  0   \n",
       "\n",
       "       Maximum MOB (Month of business with TVS Credit)  \\\n",
       "33985                                             14.0   \n",
       "28111                                             20.0   \n",
       "72020                                              8.0   \n",
       "26202                                             20.0   \n",
       "65572                                             12.0   \n",
       "\n",
       "       Number of times 60 days past due in last 6 months  Number of loans  \\\n",
       "33985                                                  3                2   \n",
       "28111                                                  0                2   \n",
       "72020                                                  0                1   \n",
       "26202                                                  0                1   \n",
       "65572                                                  0                5   \n",
       "\n",
       "       Maximum amount sanctioned in the Live loans  \\\n",
       "33985                                          0.0   \n",
       "28111                                          0.0   \n",
       "72020                                          0.0   \n",
       "26202                                          0.0   \n",
       "65572                                     475000.0   \n",
       "\n",
       "       Number of times 90 days past due in last 3 months  Tenure  \\\n",
       "33985                                                  3    18.0   \n",
       "28111                                                  0    24.0   \n",
       "72020                                                  0    10.0   \n",
       "26202                                                  0    24.0   \n",
       "65572                                                  0    12.0   \n",
       "\n",
       "       Number of times bounced while repaying the loan  \n",
       "33985                                              1.0  \n",
       "28111                                              0.0  \n",
       "72020                                              0.0  \n",
       "26202                                              1.0  \n",
       "65572                                              0.0  "
      ]
     },
     "execution_count": 51,
     "metadata": {},
     "output_type": "execute_result"
    }
   ],
   "source": [
    "X_train.head()"
   ]
  },
  {
   "cell_type": "markdown",
   "metadata": {},
   "source": [
    "# Pre-processing\n",
    "\n",
    "Scale the data using the MinMaxScaler and perform some feature selection"
   ]
  },
  {
   "cell_type": "code",
   "execution_count": 52,
   "metadata": {},
   "outputs": [],
   "source": [
    "# Scale your data\n",
    "\n",
    "#setup MinMaxScaler\n",
    "from sklearn.preprocessing import MinMaxScaler\n",
    "\n",
    "#set initial sizing of minmaxscaler using training data\n",
    "X_scaler = MinMaxScaler().fit(X_train)\n",
    "\n",
    "#y is just 1 or zero, so no need to scale it!\n",
    "# y_scaler = MinMaxScaler().fit(y_train)"
   ]
  },
  {
   "cell_type": "code",
   "execution_count": 53,
   "metadata": {},
   "outputs": [],
   "source": [
    "#use MinMaxScaler to transform the data in the training and test data sets\n",
    "#so that it is not weighted improperly\n",
    "\n",
    "X_train_scaled = X_scaler.transform(X_train)\n",
    "X_test_scaled = X_scaler.transform(X_test)\n",
    "# y_train_scaled = y_scaler.transform(y_train)\n",
    "# y_test_scaled = y_scaler.transform(y_test)"
   ]
  },
  {
   "cell_type": "markdown",
   "metadata": {},
   "source": [
    "# Train the Model\n",
    "\n"
   ]
  },
  {
   "cell_type": "code",
   "execution_count": 10,
   "metadata": {},
   "outputs": [
    {
     "data": {
      "text/plain": [
       "XGBClassifier(base_score=None, booster=None, colsample_bylevel=None,\n",
       "              colsample_bynode=None, colsample_bytree=None, eval_metric='error',\n",
       "              gamma=None, gpu_id=None, importance_type='gain',\n",
       "              interaction_constraints=None, learning_rate=None,\n",
       "              max_delta_step=None, max_depth=None, min_child_weight=None,\n",
       "              missing=nan, monotone_constraints=None, n_estimators=100,\n",
       "              n_jobs=None, num_parallel_tree=None, random_state=None,\n",
       "              reg_alpha=None, reg_lambda=None, scale_pos_weight=50,\n",
       "              subsample=None, tree_method=None, validate_parameters=None,\n",
       "              verbosity=None)"
      ]
     },
     "execution_count": 10,
     "metadata": {},
     "output_type": "execute_result"
    }
   ],
   "source": [
    "#uses a gradient-boosted random forest for this notebook - XGBoost!\n",
    "from xgboost import XGBClassifier\n",
    "\n",
    "classifier = XGBClassifier(scale_pos_weight=50, objective=\"binary:logistic\", eval_metric=\"error\")\n",
    "classifier"
   ]
  },
  {
   "cell_type": "code",
   "execution_count": 11,
   "metadata": {},
   "outputs": [
    {
     "data": {
      "text/plain": [
       "XGBClassifier(base_score=0.5, booster='gbtree', colsample_bylevel=1,\n",
       "              colsample_bynode=1, colsample_bytree=1, eval_metric='error',\n",
       "              gamma=0, gpu_id=-1, importance_type='gain',\n",
       "              interaction_constraints='', learning_rate=0.300000012,\n",
       "              max_delta_step=0, max_depth=6, min_child_weight=1, missing=nan,\n",
       "              monotone_constraints='()', n_estimators=100, n_jobs=0,\n",
       "              num_parallel_tree=1, random_state=0, reg_alpha=0, reg_lambda=1,\n",
       "              scale_pos_weight=50, subsample=1, tree_method='exact',\n",
       "              validate_parameters=1, verbosity=None)"
      ]
     },
     "execution_count": 11,
     "metadata": {},
     "output_type": "execute_result"
    }
   ],
   "source": [
    "#create the model using the training data!\n",
    "classifier.fit(X_train_scaled, y_train)"
   ]
  },
  {
   "cell_type": "code",
   "execution_count": 12,
   "metadata": {},
   "outputs": [
    {
     "name": "stdout",
     "output_type": "stream",
     "text": [
      "Training Data Score: 0.9387675308117297\n",
      "Testing Data Score: 0.9177942476371795\n"
     ]
    }
   ],
   "source": [
    "print(f\"Training Data Score: {classifier.score(X_train_scaled, y_train)}\")\n",
    "print(f\"Testing Data Score: {classifier.score(X_test_scaled, y_test)}\")"
   ]
  },
  {
   "cell_type": "code",
   "execution_count": 13,
   "metadata": {},
   "outputs": [
    {
     "name": "stdout",
     "output_type": "stream",
     "text": [
      "1197 288\n",
      "138 288\n",
      "0.9177942476371795\n"
     ]
    }
   ],
   "source": [
    "#compare with the test data!\n",
    "predictions = classifier.predict(X_test_scaled)\n",
    "print(sum(predictions), sum(y_test))\n",
    "\n",
    "total = 0\n",
    "\n",
    "default_num = 0\n",
    "\n",
    "for i in range(len(predictions)):\n",
    "    if(predictions[i] == y_test.array[i]):\n",
    "        total +=1 \n",
    "        if(predictions[i]==1):\n",
    "            default_num+=1\n",
    "        \n",
    "print(default_num, sum(y_test))\n",
    "print(total/len(predictions))"
   ]
  },
  {
   "cell_type": "markdown",
   "metadata": {},
   "source": [
    "# Hyperparameter Tuning\n",
    "\n",
    "Use `GridSearchCV` to tune the model's parameters"
   ]
  },
  {
   "cell_type": "code",
   "execution_count": 17,
   "metadata": {},
   "outputs": [],
   "source": [
    "# Create the GridSearchCV model\n",
    "from sklearn.model_selection import GridSearchCV\n",
    "from sklearn.metrics import make_scorer\n",
    "\n",
    "def equi_loans_val(y_true, y_pred):\n",
    "    valid_predictions = 0\n",
    "    invalid_predictions = 0\n",
    "    \n",
    "    for i in range(0, len(y_pred)):\n",
    "        if (y_pred[i] == 1):\n",
    "            if (y_true.array[i] == 1):\n",
    "                valid_predictions+=1\n",
    "            else:\n",
    "                invalid_predictions+=1\n",
    "    \n",
    "    return valid_predictions*5-invalid_predictions\n",
    "    \n",
    "    \n",
    "my_scorer = make_scorer(equi_loans_val, greater_is_better=True)\n",
    "\n",
    "param_grid = {'eta': [0.1, 0.2, 0.3],\n",
    "              'lambda': [1, 2],\n",
    "              'subsample': [0.7, 0.8, 0.9],\n",
    "              'max_depth': [6, 7, 8], \n",
    "              'min_child_weight': [1, 2, 3],\n",
    "              'max_delta_step': [1, 2, 3],\n",
    "              'scale_pos_weight': [50, 99]\n",
    "             }\n",
    "\n",
    "grid = GridSearchCV(classifier, param_grid, n_jobs=-1, scoring=my_scorer)"
   ]
  },
  {
   "cell_type": "code",
   "execution_count": 18,
   "metadata": {},
   "outputs": [
    {
     "data": {
      "text/plain": [
       "GridSearchCV(estimator=XGBClassifier(base_score=0.5, booster='gbtree',\n",
       "                                     colsample_bylevel=1, colsample_bynode=1,\n",
       "                                     colsample_bytree=1, eval_metric='error',\n",
       "                                     gamma=0, gpu_id=-1, importance_type='gain',\n",
       "                                     interaction_constraints='',\n",
       "                                     learning_rate=0.300000012,\n",
       "                                     max_delta_step=0, max_depth=6,\n",
       "                                     min_child_weight=1, missing=nan,\n",
       "                                     monotone_constraints='()',\n",
       "                                     n_estimators=100, n_jobs=0,\n",
       "                                     num_parallel_tree=1, random_state=0,\n",
       "                                     reg_alpha=0, reg_lambda=1,\n",
       "                                     scale_pos_weight=50, subsample=1,\n",
       "                                     tree_method='exact', validate_parameters=1,\n",
       "                                     verbosity=None),\n",
       "             n_jobs=-1,\n",
       "             param_grid={'eta': [0.1, 0.2, 0.3], 'lambda': [1, 2],\n",
       "                         'max_delta_step': [1, 2, 3], 'max_depth': [6, 7, 8],\n",
       "                         'min_child_weight': [1, 2, 3],\n",
       "                         'scale_pos_weight': [50, 99],\n",
       "                         'subsample': [0.7, 0.8, 0.9]},\n",
       "             scoring=make_scorer(equi_loans_val))"
      ]
     },
     "execution_count": 18,
     "metadata": {},
     "output_type": "execute_result"
    }
   ],
   "source": [
    "# Train the model with GridSearch\n",
    "grid.fit(X_train_scaled, y_train)"
   ]
  },
  {
   "cell_type": "code",
   "execution_count": 54,
   "metadata": {},
   "outputs": [
    {
     "name": "stdout",
     "output_type": "stream",
     "text": [
      "{'eta': 0.1, 'lambda': 1, 'max_delta_step': 2, 'max_depth': 8, 'min_child_weight': 2, 'scale_pos_weight': 50, 'subsample': 0.8}\n",
      "79.4\n"
     ]
    }
   ],
   "source": [
    "print(grid.best_params_)\n",
    "print(grid.best_score_)"
   ]
  },
  {
   "cell_type": "code",
   "execution_count": 56,
   "metadata": {},
   "outputs": [
    {
     "name": "stdout",
     "output_type": "stream",
     "text": [
      "701 1236\n",
      "353\n"
     ]
    },
    {
     "data": {
      "image/png": "[encoded data removed]",
      "text/plain": [
       "<Figure size 432x288 with 2 Axes>"
      ]
     },
     "metadata": {
      "needs_background": "light"
     },
     "output_type": "display_data"
    }
   ],
   "source": [
    "from confusion_matrix_plot import plot_confusion_matrix\n",
    "from sklearn.metrics import confusion_matrix\n",
    "\n",
    "\n",
    "#check out the confusion matrix    \n",
    "y_training_result = grid.predict(X_train_scaled)\n",
    "print(sum(y_training_result), sum(y_train))\n",
    "checker_val = [1 if (y_training_result[i] == 1 and y_training_result[i] == y_train.array[i]) else 0 for i in range(len(y_train))]\n",
    "print(sum(checker_val))\n",
    "\n",
    "#check out the confusion matrix    \n",
    "y_pred_trained = grid.predict(X_train_scaled)\n",
    "thresh = 0.08\n",
    "y_pred_trained [y_pred_trained > thresh] = 1\n",
    "y_pred_trained [y_pred_trained <= thresh] = 0\n",
    "cm = confusion_matrix(y_train, y_pred_trained)\n",
    "plot_confusion_matrix(cm, ['0', '1'], )"
   ]
  },
  {
   "cell_type": "code",
   "execution_count": 57,
   "metadata": {},
   "outputs": [
    {
     "data": {
      "image/png": "[encoded data removed]",
      "text/plain": [
       "<Figure size 432x288 with 2 Axes>"
      ]
     },
     "metadata": {
      "needs_background": "light"
     },
     "output_type": "display_data"
    }
   ],
   "source": [
    "from confusion_matrix_plot import plot_confusion_matrix\n",
    "from sklearn.metrics import confusion_matrix\n",
    "\n",
    "\n",
    "#check out the confusion matrix    \n",
    "y_pred = grid.predict(X_test_scaled)\n",
    "thresh = 0.08\n",
    "y_pred [y_pred > thresh] = 1\n",
    "y_pred [y_pred <= thresh] = 0\n",
    "cm = confusion_matrix(y_test, y_pred)\n",
    "plot_confusion_matrix(cm, ['0', '1'], )"
   ]
  },
  {
   "cell_type": "code",
   "execution_count": 58,
   "metadata": {},
   "outputs": [
    {
     "name": "stdout",
     "output_type": "stream",
     "text": [
      "185 392\n",
      "102 392\n",
      "0.9746379275175087\n"
     ]
    }
   ],
   "source": [
    "#compare with the test data!\n",
    "predictions = grid.predict(X_test_scaled)\n",
    "print(sum(predictions), sum(y_test))\n",
    "\n",
    "total = 0\n",
    "\n",
    "default_num = 0\n",
    "\n",
    "for i in range(len(predictions)):\n",
    "    if(predictions[i] == y_test.array[i]):\n",
    "        total +=1 \n",
    "        if(predictions[i]==1):\n",
    "            default_num+=1\n",
    "        \n",
    "print(default_num, sum(y_test))\n",
    "print(total/len(predictions))"
   ]
  },
  {
   "cell_type": "code",
   "execution_count": 49,
   "metadata": {},
   "outputs": [
    {
     "name": "stdout",
     "output_type": "stream",
     "text": [
      "              precision    recall  f1-score   support\n",
      "\n",
      " Non-Default       0.98      0.97      0.97     14390\n",
      "     Default       0.03      0.04      0.04       317\n",
      "\n",
      "    accuracy                           0.95     14707\n",
      "   macro avg       0.50      0.51      0.50     14707\n",
      "weighted avg       0.96      0.95      0.95     14707\n",
      "\n"
     ]
    }
   ],
   "source": [
    "#check classification report for how the tuned model did!\n",
    "from sklearn.metrics import classification_report\n",
    "\n",
    "#still not showing many default cases\n",
    "print(classification_report(y_test, predictions,\n",
    "                            target_names=[\"Non-Default\", \"Default\"]))"
   ]
  },
  {
   "cell_type": "markdown",
   "metadata": {},
   "source": [
    "# Save the Model"
   ]
  },
  {
   "cell_type": "code",
   "execution_count": 28,
   "metadata": {},
   "outputs": [
    {
     "data": {
      "text/plain": [
       "['XGBoost_custom_scorer.sav']"
      ]
     },
     "execution_count": 28,
     "metadata": {},
     "output_type": "execute_result"
    }
   ],
   "source": [
    "# save your model by updating the filename to match the model\n",
    "\n",
    "import joblib\n",
    "filename = 'XGBoost_custom_scorer.sav'\n",
    "joblib.dump(grid, filename)"
   ]
  },
  {
   "cell_type": "code",
   "execution_count": 43,
   "metadata": {},
   "outputs": [
    {
     "name": "stdout",
     "output_type": "stream",
     "text": [
      "886 1628\n",
      "455 1628\n",
      "0.978186367839852\n"
     ]
    }
   ],
   "source": [
    "#overall test\n",
    "X_scaler = MinMaxScaler().fit(X.copy())\n",
    "\n",
    "X_overall_scaled = X_scaler.transform(X.copy())\n",
    "\n",
    "#compare with the test data!\n",
    "predictions_2 = grid.predict(X_overall_scaled)\n",
    "print(sum(predictions_2), sum(y))\n",
    "\n",
    "total = 0\n",
    "\n",
    "default_num = 0\n",
    "\n",
    "for i in range(len(predictions_2)):\n",
    "    if(predictions_2[i] == y.array[i]):\n",
    "        total +=1 \n",
    "        if(predictions_2[i]==1):\n",
    "            default_num+=1\n",
    "        \n",
    "print(default_num, sum(y))\n",
    "print(total/len(predictions_2))"
   ]
  },
  {
   "cell_type": "code",
   "execution_count": null,
   "metadata": {},
   "outputs": [],
   "source": []
  }
 ],
 "metadata": {
  "kernel_info": {
   "name": "dev"
  },
  "kernelspec": {
   "display_name": "Python 3",
   "language": "python",
   "name": "python3"
  },
  "language_info": {
   "codemirror_mode": {
    "name": "ipython",
    "version": 3
   },
   "file_extension": ".py",
   "mimetype": "text/x-python",
   "name": "python",
   "nbconvert_exporter": "python",
   "pygments_lexer": "ipython3",
   "version": "3.7.6"
  },
  "nteract": {
   "version": "0.12.3"
  }
 },
 "nbformat": 4,
 "nbformat_minor": 2
}
